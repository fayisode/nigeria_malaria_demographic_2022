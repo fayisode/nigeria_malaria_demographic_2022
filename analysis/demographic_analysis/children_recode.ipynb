{
 "cells": [
  {
   "cell_type": "markdown",
   "source": [
    "This focuses on\n",
    "\n",
    "1. Variable Identification\n",
    "2. Univarient Analysis\n",
    "3. Bi-varient Analysis\n",
    "4. Multi-varient Analysis"
   ],
   "metadata": {
    "collapsed": false
   }
  },
  {
   "cell_type": "code",
   "execution_count": 6,
   "outputs": [],
   "source": [
    "# Importing the libraries\n",
    "import numpy as np\n",
    "import matplotlib.pyplot as plt\n",
    "import pandas as pd\n",
    "import seaborn as sns\n",
    "import copy\n",
    "%matplotlib inline"
   ],
   "metadata": {
    "collapsed": false,
    "ExecuteTime": {
     "end_time": "2023-07-23T12:14:26.169107Z",
     "start_time": "2023-07-23T12:14:26.166780Z"
    }
   }
  },
  {
   "cell_type": "code",
   "execution_count": 4,
   "outputs": [
    {
     "name": "stderr",
     "output_type": "stream",
     "text": [
      "/var/folders/xm/rq0m1_2936361j6vzf7xmlk40000gn/T/ipykernel_18820/1911996388.py:1: DtypeWarning: Columns (44,130,240) have mixed types. Specify dtype option on import or set low_memory=False.\n",
      "  children_recode = pd.read_csv('../../csv/children_recode.csv',delimiter=\"\\t\")\n"
     ]
    }
   ],
   "source": [
    "children_recode = pd.read_csv('../../csv/children_recode.csv', delimiter=\"\\t\")"
   ],
   "metadata": {
    "collapsed": false,
    "ExecuteTime": {
     "end_time": "2023-07-23T12:13:24.260621Z",
     "start_time": "2023-07-23T12:13:23.921471Z"
    }
   }
  },
  {
   "cell_type": "markdown",
   "source": [
    "# 1. Variable Identification"
   ],
   "metadata": {
    "collapsed": false
   }
  },
  {
   "cell_type": "markdown",
   "source": [
    "## 1.1. Identifying the Dependent Variable and Types of Variables"
   ],
   "metadata": {
    "collapsed": false
   }
  },
  {
   "cell_type": "code",
   "execution_count": 7,
   "metadata": {
    "collapsed": true,
    "ExecuteTime": {
     "end_time": "2023-07-23T12:14:27.922382Z",
     "start_time": "2023-07-23T12:14:27.878342Z"
    }
   },
   "outputs": [],
   "source": [
    "data = copy.deepcopy(children_recode)"
   ]
  },
  {
   "cell_type": "code",
   "execution_count": 8,
   "outputs": [
    {
     "data": {
      "text/plain": "   Unnamed: 0 CASEID   Case Identification  HIDXA    Index to birth history  \\\n0           0                     1   1  4                              1.0   \n1           1                     1   1  6                              1.0   \n2           2                     1   5  2                              1.0   \n3           3                     1   8  3                              1.0   \n4           4                     1  11  2                              1.0   \n\n  V000     Country code and phase  V001     Cluster number  \\\n0                             NG8                      1.0   \n1                             NG8                      1.0   \n2                             NG8                      1.0   \n3                             NG8                      1.0   \n4                             NG8                      1.0   \n\n   V002     Household number  V003     Respondent's line number  \\\n0                        1.0                                4.0   \n1                        1.0                                6.0   \n2                        5.0                                2.0   \n3                        8.0                                3.0   \n4                       11.0                                2.0   \n\n   V004     Ultimate area unit  \\\n0                          1.0   \n1                          1.0   \n2                          1.0   \n3                          1.0   \n4                          1.0   \n\n   V005     Women's individual sample weight (6 decimals)  \\\n0                                          1060257.0        \n1                                          1060257.0        \n2                                          1060257.0        \n3                                          1060257.0        \n4                                          1060257.0        \n\n   V006     Month of interview  ...  \\\n0                         10.0  ...   \n1                         10.0  ...   \n2                         10.0  ...   \n3                         10.0  ...   \n4                         10.0  ...   \n\n   S512A    Agreedisagree with: important children take full dose of medicine they are prescribed for malaria  \\\n0                                              Agree                                                            \n1                                              Agree                                                            \n2                                              Agree                                                            \n3                                              Agree                                                            \n4                                              Agree                                                            \n\n   SLGA     Local government area  SREGION  Region  SBONNY   Bonny State  \\\n0                           371.0    North Central                    No   \n1                           371.0    North Central                    No   \n2                           371.0    North Central                    No   \n3                           371.0    North Central                    No   \n4                           371.0    North Central                    No   \n\n   S104A    Had informal education  S104B    Type of informal education  \\\n0                              NaN                                  NaN   \n1                              NaN                                  NaN   \n2                              NaN                                  NaN   \n3                              NaN                                  NaN   \n4                              NaN                                  NaN   \n\n   S211     Number of births 2016-2021 IDX95    Index to Birth History  \\\n0                                  1.0                             1.0   \n1                                  1.0                             1.0   \n2                                  1.0                             1.0   \n3                                  1.0                             1.0   \n4                                  2.0                             1.0   \n\n  S411A    Referred to higher level of care  \\\n0                                       NaN   \n1                                       NaN   \n2                                       NaN   \n3                                       NaN   \n4                                       Yes   \n\n  S415A    Fever went away after took ACT  \n0                                     NaN  \n1                                     NaN  \n2                                     NaN  \n3                                     Yes  \n4                                      No  \n\n[5 rows x 360 columns]",
      "text/html": "<div>\n<style scoped>\n    .dataframe tbody tr th:only-of-type {\n        vertical-align: middle;\n    }\n\n    .dataframe tbody tr th {\n        vertical-align: top;\n    }\n\n    .dataframe thead th {\n        text-align: right;\n    }\n</style>\n<table border=\"1\" class=\"dataframe\">\n  <thead>\n    <tr style=\"text-align: right;\">\n      <th></th>\n      <th>Unnamed: 0</th>\n      <th>CASEID   Case Identification</th>\n      <th>HIDXA    Index to birth history</th>\n      <th>V000     Country code and phase</th>\n      <th>V001     Cluster number</th>\n      <th>V002     Household number</th>\n      <th>V003     Respondent's line number</th>\n      <th>V004     Ultimate area unit</th>\n      <th>V005     Women's individual sample weight (6 decimals)</th>\n      <th>V006     Month of interview</th>\n      <th>...</th>\n      <th>S512A    Agreedisagree with: important children take full dose of medicine they are prescribed for malaria</th>\n      <th>SLGA     Local government area</th>\n      <th>SREGION  Region</th>\n      <th>SBONNY   Bonny State</th>\n      <th>S104A    Had informal education</th>\n      <th>S104B    Type of informal education</th>\n      <th>S211     Number of births 2016-2021</th>\n      <th>IDX95    Index to Birth History</th>\n      <th>S411A    Referred to higher level of care</th>\n      <th>S415A    Fever went away after took ACT</th>\n    </tr>\n  </thead>\n  <tbody>\n    <tr>\n      <th>0</th>\n      <td>0</td>\n      <td>1   1  4</td>\n      <td>1.0</td>\n      <td>NG8</td>\n      <td>1.0</td>\n      <td>1.0</td>\n      <td>4.0</td>\n      <td>1.0</td>\n      <td>1060257.0</td>\n      <td>10.0</td>\n      <td>...</td>\n      <td>Agree</td>\n      <td>371.0</td>\n      <td>North Central</td>\n      <td>No</td>\n      <td>NaN</td>\n      <td>NaN</td>\n      <td>1.0</td>\n      <td>1.0</td>\n      <td>NaN</td>\n      <td>NaN</td>\n    </tr>\n    <tr>\n      <th>1</th>\n      <td>1</td>\n      <td>1   1  6</td>\n      <td>1.0</td>\n      <td>NG8</td>\n      <td>1.0</td>\n      <td>1.0</td>\n      <td>6.0</td>\n      <td>1.0</td>\n      <td>1060257.0</td>\n      <td>10.0</td>\n      <td>...</td>\n      <td>Agree</td>\n      <td>371.0</td>\n      <td>North Central</td>\n      <td>No</td>\n      <td>NaN</td>\n      <td>NaN</td>\n      <td>1.0</td>\n      <td>1.0</td>\n      <td>NaN</td>\n      <td>NaN</td>\n    </tr>\n    <tr>\n      <th>2</th>\n      <td>2</td>\n      <td>1   5  2</td>\n      <td>1.0</td>\n      <td>NG8</td>\n      <td>1.0</td>\n      <td>5.0</td>\n      <td>2.0</td>\n      <td>1.0</td>\n      <td>1060257.0</td>\n      <td>10.0</td>\n      <td>...</td>\n      <td>Agree</td>\n      <td>371.0</td>\n      <td>North Central</td>\n      <td>No</td>\n      <td>NaN</td>\n      <td>NaN</td>\n      <td>1.0</td>\n      <td>1.0</td>\n      <td>NaN</td>\n      <td>NaN</td>\n    </tr>\n    <tr>\n      <th>3</th>\n      <td>3</td>\n      <td>1   8  3</td>\n      <td>1.0</td>\n      <td>NG8</td>\n      <td>1.0</td>\n      <td>8.0</td>\n      <td>3.0</td>\n      <td>1.0</td>\n      <td>1060257.0</td>\n      <td>10.0</td>\n      <td>...</td>\n      <td>Agree</td>\n      <td>371.0</td>\n      <td>North Central</td>\n      <td>No</td>\n      <td>NaN</td>\n      <td>NaN</td>\n      <td>1.0</td>\n      <td>1.0</td>\n      <td>NaN</td>\n      <td>Yes</td>\n    </tr>\n    <tr>\n      <th>4</th>\n      <td>4</td>\n      <td>1  11  2</td>\n      <td>1.0</td>\n      <td>NG8</td>\n      <td>1.0</td>\n      <td>11.0</td>\n      <td>2.0</td>\n      <td>1.0</td>\n      <td>1060257.0</td>\n      <td>10.0</td>\n      <td>...</td>\n      <td>Agree</td>\n      <td>371.0</td>\n      <td>North Central</td>\n      <td>No</td>\n      <td>NaN</td>\n      <td>NaN</td>\n      <td>2.0</td>\n      <td>1.0</td>\n      <td>Yes</td>\n      <td>No</td>\n    </tr>\n  </tbody>\n</table>\n<p>5 rows × 360 columns</p>\n</div>"
     },
     "execution_count": 8,
     "metadata": {},
     "output_type": "execute_result"
    }
   ],
   "source": [
    "data.head()"
   ],
   "metadata": {
    "collapsed": false,
    "ExecuteTime": {
     "end_time": "2023-07-23T12:14:40.453878Z",
     "start_time": "2023-07-23T12:14:40.432144Z"
    }
   }
  },
  {
   "cell_type": "code",
   "execution_count": 11,
   "outputs": [
    {
     "data": {
      "text/plain": "                                          Data Type\nUnnamed: 0                                    int64\nCASEID   Case Identification                 object\nHIDXA    Index to birth history             float64\nV000     Country code and phase              object\nV001     Cluster number                     float64\n...                                             ...\nS104B    Type of informal education          object\nS211     Number of births 2016-2021         float64\nIDX95    Index to Birth History             float64\nS411A    Referred to higher level of care    object\nS415A    Fever went away after took ACT      object\n\n[360 rows x 1 columns]",
      "text/html": "<div>\n<style scoped>\n    .dataframe tbody tr th:only-of-type {\n        vertical-align: middle;\n    }\n\n    .dataframe tbody tr th {\n        vertical-align: top;\n    }\n\n    .dataframe thead th {\n        text-align: right;\n    }\n</style>\n<table border=\"1\" class=\"dataframe\">\n  <thead>\n    <tr style=\"text-align: right;\">\n      <th></th>\n      <th>Data Type</th>\n    </tr>\n  </thead>\n  <tbody>\n    <tr>\n      <th>Unnamed: 0</th>\n      <td>int64</td>\n    </tr>\n    <tr>\n      <th>CASEID   Case Identification</th>\n      <td>object</td>\n    </tr>\n    <tr>\n      <th>HIDXA    Index to birth history</th>\n      <td>float64</td>\n    </tr>\n    <tr>\n      <th>V000     Country code and phase</th>\n      <td>object</td>\n    </tr>\n    <tr>\n      <th>V001     Cluster number</th>\n      <td>float64</td>\n    </tr>\n    <tr>\n      <th>...</th>\n      <td>...</td>\n    </tr>\n    <tr>\n      <th>S104B    Type of informal education</th>\n      <td>object</td>\n    </tr>\n    <tr>\n      <th>S211     Number of births 2016-2021</th>\n      <td>float64</td>\n    </tr>\n    <tr>\n      <th>IDX95    Index to Birth History</th>\n      <td>float64</td>\n    </tr>\n    <tr>\n      <th>S411A    Referred to higher level of care</th>\n      <td>object</td>\n    </tr>\n    <tr>\n      <th>S415A    Fever went away after took ACT</th>\n      <td>object</td>\n    </tr>\n  </tbody>\n</table>\n<p>360 rows × 1 columns</p>\n</div>"
     },
     "execution_count": 11,
     "metadata": {},
     "output_type": "execute_result"
    }
   ],
   "source": [
    "datatypes = pd.DataFrame(data.dtypes, columns=['Data Type'])\n",
    "datatypes"
   ],
   "metadata": {
    "collapsed": false,
    "ExecuteTime": {
     "end_time": "2023-07-23T12:15:36.732572Z",
     "start_time": "2023-07-23T12:15:36.729868Z"
    }
   }
  },
  {
   "cell_type": "code",
   "execution_count": 15,
   "outputs": [
    {
     "name": "stdout",
     "output_type": "stream",
     "text": [
      "Numerical Columns:  166\n",
      "Categorical Columns:  194\n"
     ]
    }
   ],
   "source": [
    "num_cols = data._get_numeric_data().columns\n",
    "cat_cols = list(set(data.columns) - set(num_cols))\n",
    "print('Numerical Columns: ', len(num_cols))\n",
    "print('Categorical Columns: ', len(cat_cols))"
   ],
   "metadata": {
    "collapsed": false,
    "ExecuteTime": {
     "end_time": "2023-07-23T12:17:23.629692Z",
     "start_time": "2023-07-23T12:17:23.615111Z"
    }
   }
  },
  {
   "cell_type": "markdown",
   "source": [
    "## 1.2. Identifying the Dependent Variable partaining to demographic information"
   ],
   "metadata": {
    "collapsed": false
   }
  },
  {
   "cell_type": "markdown",
   "source": [],
   "metadata": {
    "collapsed": false
   }
  },
  {
   "cell_type": "code",
   "execution_count": 16,
   "outputs": [
    {
     "name": "stdout",
     "output_type": "stream",
     "text": [
      "Unnamed: 0\n",
      "CASEID   Case Identification\n",
      "HIDXA    Index to birth history\n",
      "V000     Country code and phase\n",
      "V001     Cluster number\n",
      "V002     Household number\n",
      "V003     Respondent's line number\n",
      "V004     Ultimate area unit\n",
      "V005     Women's individual sample weight (6 decimals)\n",
      "V006     Month of interview\n",
      "V007     Year of interview\n",
      "V008     Date of interview (CMC)\n",
      "V008A    Date of interview Century Day Code (CDC)\n",
      "V009     Respondent's month of birth\n",
      "V010     Respondent's year of birth\n",
      "V011     Date of birth (CMC)\n",
      "V012     Respondent's current age\n",
      "V013     Age in 5-year groups\n",
      "V014     Completeness of age information\n",
      "V015     Result of individual interview\n",
      "V016     Day of interview\n",
      "V021     Primary sampling unit\n",
      "V022     Sample strata for sampling errors\n",
      "V023     Stratification used in sample design\n",
      "V024     Region\n",
      "V025     Type of place of residence\n",
      "V026     NA - De facto place of residence\n",
      "V027     Number of visits\n",
      "V028     Interviewer identification\n",
      "V029     NA - Keyer identification\n",
      "V030     Field supervisor\n",
      "V031     NA - Field editor\n",
      "V032     NA - Office editor\n",
      "V034     NA - Line number of husband\n",
      "V040     Cluster altitude in meters\n",
      "V042     Household selected for hemoglobin\n",
      "V045A    Language of questionnaire\n",
      "V045B    Language of interview\n",
      "V045C    Native language of respondent\n",
      "V046     Translator used\n",
      "V047     Team number\n",
      "V101     Region\n",
      "V102     Type of place of residence\n",
      "V106     Highest educational level\n",
      "V107     Highest year of education\n",
      "V113     Source of drinking water\n",
      "V115     Time to get to water source\n",
      "V116     Type of toilet facility\n",
      "V119     Household has: electricity\n",
      "V120     Household has: radio\n",
      "V121     Household has: television\n",
      "V122     Household has: refrigerator\n",
      "V123     Household has: bicycle\n",
      "V124     Household has: motorcyclescooter\n",
      "V125     Household has: cartruck\n",
      "V127     Main floor material\n",
      "V128     Main wall material\n",
      "V129     Main roof material\n",
      "V130     Religion\n",
      "V131     Ethnicity\n",
      "V133     Education in single years\n",
      "V134     NA - De facto place of residence\n",
      "V135     Usual resident or visitor\n",
      "V136     Number of household members (listed)\n",
      "V137     Number of children 5 and under in household (de jure)\n",
      "V138     Number of eligible women in household (de facto)\n",
      "V139     De jure region of residence\n",
      "V140     De jure type of place of residence\n",
      "V141     NA - De jure place of residence\n",
      "V149     Educational attainment\n",
      "V150     Relationship to household head\n",
      "V151     Sex of household head\n",
      "V152     Age of household head\n",
      "V153     Household has: telephone (land-line)\n",
      "V155     Literacy\n",
      "V156     NA - Ever participated in a literacy program outside of primary\n",
      "V157     Frequency of reading newspaper or magazine\n",
      "V158     Frequency of listening to radio\n",
      "V159     Frequency of watching television\n",
      "V160     Toilet facilities shared with other households\n",
      "V161     Type of cooking fuel\n",
      "V169A    Owns a mobile telephone\n",
      "V169C    Is respondent's mobile phone a smart phone\n",
      "V171A    Use of internet\n",
      "V171B    Frequency of using internet last month\n",
      "V190     Wealth index combined\n",
      "V191     Wealth index factor score combined (5 decimals)\n",
      "V190A    Wealth index for urbanrural\n",
      "V191A    Wealth index factor score for urbanrural (5 decimals)\n",
      "ML101    Type of mosquito bed net(s) slept under last night\n",
      "V417     Entries in pregnancy and postnatal care roster\n",
      "V418A    Entries in child health roster\n",
      "V419     Entries in heightweight roster\n",
      "V459     Have mosquito bed net for sleeping (from household questionnaire)\n",
      "V460     Children under 5 slept under mosquito bed net last night (household questionnaire)\n",
      "V461     Respondent slept under mosquito bed net\n",
      "V468     Record for Last Birth\n",
      "BIDX     Birth column number\n",
      "BORD     Birth order number\n",
      "B0       Child is twin\n",
      "B1       Month of birth\n",
      "B2       Year of birth\n",
      "B3       Date of birth (CMC)\n",
      "B4       Sex of child\n",
      "B5       Child is alive\n",
      "B6       NA - Age at death\n",
      "B7       NA - Age at death (months, imputed)\n",
      "B8       Current age of child\n",
      "B9       Child lives with whom\n",
      "B10      Completeness of information\n",
      "B11      Preceding birth interval (months)\n",
      "B12      Succeeding birth interval (months)\n",
      "B13      NA - Flag for age at death\n",
      "B15      Live birth between births\n",
      "B16      Child's line number in household\n",
      "B17      Day of birth\n",
      "B18      Century Day Code of birth (CDC)\n",
      "B19      Current age of child in months (months since birth for dead children)\n",
      "V201     Total children ever born\n",
      "V202     Sons at home\n",
      "V203     Daughters at home\n",
      "V204     Sons elsewhere\n",
      "V205     Daughters elsewhere\n",
      "V206     Sons who have died\n",
      "V207     Daughters who have died\n",
      "V208     Births in last five years\n",
      "V209     Births in past year\n",
      "V210     Births in month of interview\n",
      "V213     Currently pregnant\n",
      "V214     Duration of current pregnancy in months\n",
      "V214A    Duration of current pregnancy original\n",
      "V218     Number of living children\n",
      "V219     Living children + current pregnancy\n",
      "V220     Living children + current pregnancy (grouped)\n",
      "V222     Last birth to interview (months)\n",
      "V223     Completeness of current pregnancy information\n",
      "V224     Entries in birth history\n",
      "V237     Birth between last and interview\n",
      "V238     Births in last three years\n",
      "MIDX     Index to Birth History\n",
      "M2A      Prenatal: doctor\n",
      "M2B      Prenatal: nursemidwife\n",
      "M2C      Prenatal: auxiliary midwife\n",
      "M2D      Prenatal: government health community extension health worker\n",
      "M2E      NA - Prenatal: CS health professional\n",
      "M2F      NA - Prenatal: CS health professional\n",
      "M2G      Prenatal: traditional birth attendant\n",
      "M2H      Prenatal: Community health workerfield worker\n",
      "M2I      NA - Prenatal: CS other person\n",
      "M2J      NA - Prenatal: CS other person\n",
      "M2K      Prenatal: other\n",
      "M2L      NA - Prenatal: CS other\n",
      "M2M      NA - Prenatal: CS other\n",
      "M2N      Prenatal: no one\n",
      "M13      Timing of 1st antenatal check (months)\n",
      "M13A     Timing of 1st antenatal check (original)\n",
      "M14      Number of antenatal visits during pregnancy\n",
      "M49A     During pregnancy took: SPfansidar for malaria\n",
      "M49B     NA - During pregnancy took: chloroquine for malaria\n",
      "M49C     NA - During pregnancy took: CS drug for malaria\n",
      "M49D     NA - During pregnancy took: CS drug for malaria\n",
      "M49E     NA - During pregnancy took: CS drug for malaria\n",
      "M49F     NA - During pregnancy took: CS drug for malaria\n",
      "M49G     NA - During pregnancy took: CS drug for malaria\n",
      "M49X     NA - During pregnancy took: other drug for malaria\n",
      "M49Z     NA - During pregnancy took: don't know\n",
      "M49Y     NA - During pregnancy took: no drug for malaria\n",
      "M57A     Antenatal care: respondent's home\n",
      "M57B     Antenatal care: other home\n",
      "M57C     NA - Antenatal care: CS home\n",
      "M57D     NA - Antenatal care: CS home\n",
      "M57E     Antenatal care: government hospital\n",
      "M57F     Antenatal care: government health center\n",
      "M57G     Antenatal care: government health post\n",
      "M57H     Antenatal care: other public sector\n",
      "M57I     NA - Antenatal care: CS public health\n",
      "M57J     NA - Antenatal care: CS public health\n",
      "M57K     NA - Antenatal care: CS public health\n",
      "M57L     NA - Antenatal care: CS public health\n",
      "M57M     Antenatal care: private hospital\n",
      "M57N     Antenatal care: private clinic\n",
      "M57O     Antenatal care: other private medical sector\n",
      "M57P     NA - Antenatal care: CS private medical\n",
      "M57Q     NA - Antenatal care: CS private medical\n",
      "M57R     NA - Antenatal care: CS private medical\n",
      "M57NA    Antenatal care: NGO hospital\n",
      "M57NB    Antenatal care: NGO clinic\n",
      "M57NC    Antenatal care: other NGO medical sector\n",
      "M57ND    NA - Antenatal care: NGO medical\n",
      "M57NE    NA - Antenatal care: NGO medical\n",
      "M57S     NA - Antenatal care: CS other\n",
      "M57T     NA - Antenatal care: CS other\n",
      "M57U     NA - Antenatal care: CS other\n",
      "M57V     NA - Antenatal care: CS other\n",
      "M57X     Antenatal care: other\n",
      "ML1      Number of times took fansidar during pregnancy\n",
      "ML2      Source of antimalarial during pregnancy\n",
      "H22      Had fever in last two weeks\n",
      "H31      NA - Had cough in last two weeks\n",
      "H32A     Fevercough: government hospital\n",
      "H32B     Fevercough: government health center\n",
      "H32C     Fevercough: government health post\n",
      "H32D     Fevercough: government mobile clinic\n",
      "H32E     Fevercough: government community health workerfieldworker\n",
      "H32F     Fevercough: other public sector\n",
      "H32G     NA - Fevercough: CS public sector\n",
      "H32H     NA - Fevercough: CS public sector\n",
      "H32I     NA - Fevercough: CS public sector\n",
      "H32J     Fevercough: private hospital\n",
      "H32K     Fevercough: private pharmacy\n",
      "H32L     Fevercough: private doctor\n",
      "H32M     Fevercough: private clinic\n",
      "H32N     Fevercough: private mobile clinic\n",
      "H32O     Fevercough: private community health workerfieldworker\n",
      "H32P     Fevercough: other private medical sector\n",
      "H32Q     NA - Fevercough: CS private medical\n",
      "H32R     NA - Fevercough: CS private medical\n",
      "H32NA    Fevercough: NGO hospital\n",
      "H32NB    Fevercough: NGO clinic\n",
      "H32NC    Fevercough: other NGO sector\n",
      "H32ND    NA - Fevercough: CS NGO\n",
      "H32NE    NA - Fevercough: CS NGO\n",
      "H32S     Fevercough: chemist shopPPMV\n",
      "H32T     Fevercough: traditional practitioner\n",
      "H32U     Fevercough: market\n",
      "H32V     Fevercough: itinerant drug seller\n",
      "H32W     Fevercough: community-oriented resource person\n",
      "H32X     Fevercough: other\n",
      "H32Y     Fevercough: no treatment\n",
      "H32Z     Fevercough: medical treatment\n",
      "H46A     Place first sought treatment for fever\n",
      "H46B     Number of days after fever began sought advice or treatment\n",
      "H47      Blood taken from child's fingerheel for testing\n",
      "H71      Was respondent told that child had malaria\n",
      "HWIDX    Index to Birth History\n",
      "HW1      Child's age in months\n",
      "HW16     Day of birth of child\n",
      "HW17     Date measured (day)\n",
      "HW18     Date measured (month)\n",
      "HW19     Date measured (year)\n",
      "HW51     Line number of parentcaretaker\n",
      "HW52     Read consent statement - hemoglobin\n",
      "HW53     Hemoglobin level (gdl - 1 decimal)\n",
      "HW55     Result of measurement - hemoglobin\n",
      "HW56     Hemoglobin level adjusted for altitude (gdl - 1 decimal)\n",
      "HW57     Anemia level\n",
      "HW58     NA - Agrees to referral - anemia\n",
      "IDXML    Index to Birth History\n",
      "ML0      Type of mosquito bed net(s) child slept under last night\n",
      "ML11     NA - Child has fevercough now\n",
      "ML12     NA - Child has had convulsions in last 2 weeks\n",
      "ML13A    Fansidar taken for fever\n",
      "ML13B    Chloroquine taken for fever\n",
      "ML13C    Amodiaquine taken for fever\n",
      "ML13D    Quinine taken for fever\n",
      "ML13DA   Quinine injectionIV taken for fever\n",
      "ML13E    Combination with artemisinin taken for fever\n",
      "ML13AA   Artesunate rectal taken for fever\n",
      "ML13AB   Artesunate injectionIV taken for fever\n",
      "ML13F    NA - CS antimalarial taken for fever\n",
      "ML13G    NA - CS antimalarial taken for fever\n",
      "ML13H    Other antimalarial taken for fever\n",
      "ML13I    Antibiotic pillsyrup taken for fever\n",
      "ML13J    Antibiotic injection taken for fever\n",
      "ML13K    Aspirin taken for fever\n",
      "ML13L    Acetaminophenparacetamolpanadol taken for fever\n",
      "ML13M    Ibuprofen taken for fever\n",
      "ML13N    Amoxicillin taken for fever\n",
      "ML13O    Cotrimoxazole taken for fever\n",
      "ML13P    NA - CS other taken for fever\n",
      "ML13X    Other taken for fever\n",
      "ML13Y    Nothing taken and didn't seek treatment for fevercough\n",
      "ML13Z    Don't know if or what was taken for fever\n",
      "ML14A    NA - Injection given for feverconvulsion\n",
      "ML14B    NA - Suppository given for feverconvulsion\n",
      "ML14Y    NA - No suppository or injection given for feverconvulsion\n",
      "ML14Z    NA - Don't know if suppository or injection given for feverconvulsion\n",
      "ML15A    NA - Timing of start of fansidar\n",
      "ML15B    NA - Number of days child took fansidar\n",
      "ML15C    NA - First source for fansidar\n",
      "ML16A    NA - Timing of start of chloroquine\n",
      "ML16B    NA - Number of days child took chloroquine\n",
      "ML16C    NA - First source for chloroquine\n",
      "ML17A    NA - Timing of start of amodiaquine\n",
      "ML17B    NA - Number of days child took amodiaquine\n",
      "ML17C    NA - First source for amodiaquine\n",
      "ML18A    NA - Timing of start of quinine\n",
      "ML18B    NA - Number of days child took quinine\n",
      "ML18C    NA - First source for quinine\n",
      "ML19A    NA - For feverconvulsion: consulted traditional healer\n",
      "ML19B    NA - For feverconvulsion: gave tepid sponging\n",
      "ML19C    NA - For feverconvulsion: gave herbs\n",
      "ML19D    NA - For feverconvulsion: CS\n",
      "ML19E    NA - For feverconvulsion: CS\n",
      "ML19F    NA - For feverconvulsion: CS\n",
      "ML19X    NA - For feverconvulsion: other\n",
      "ML19Y    NA - For feverconvulsion: gavedid nothing\n",
      "ML19Z    NA - For feverconvulsion: don't know if something else was done\n",
      "ML20A    Timing of start of combination with artemisinin\n",
      "ML20B    NA - Number of days child took combination with artemisinin\n",
      "ML20C    NA - First source for combination with artemisinin\n",
      "ML21A    NA - Timing of start of CS antimalarial use\n",
      "ML21B    NA - Number of days child took CS antimalarial\n",
      "ML21C    NA - First source for CS antimalarial\n",
      "ML22A    NA - Timing of start of CS antimalarial use\n",
      "ML22B    NA - Number of days child took CS antimalarial\n",
      "ML22C    NA - First source for CS antimalarial\n",
      "ML23A    NA - Timing of start of other anti-malarial use\n",
      "ML23B    NA - Number of days child took other anti-malarial\n",
      "ML23C    NA - First source for other anti-malarial\n",
      "ML24C    NA - First source for antibiotic pillsyrup\n",
      "ML25A    NA - Timing of start of artesunate\n",
      "ML501    Last six months heardseen malaria messages\n",
      "ML501A   Malaria messages were heardseen: radio\n",
      "ML501B   Malaria messages were heardseen: television\n",
      "ML501C   Malaria messages were heardseen: posterbillboard\n",
      "ML501D   Malaria messages were heardseen: newspapermagazine\n",
      "ML501E   Malaria messages were heardseen: leafletbrochure\n",
      "ML501F   Malaria messages were heardseen: healthcare provider\n",
      "ML501G   Malaria messages were heardseen: community health worker\n",
      "ML501H   Malaria messages were heardseen: social media\n",
      "ML501I   Malaria messages were heardseen: town announcer\n",
      "ML501J   Malaria messages were heardseen: inter-personal communication agentcommunity volunteer\n",
      "ML501K   Malaria messages were heardseen: familyfriends\n",
      "ML501X   Malaria messages were heardseen: other\n",
      "ML501Z   Malaria messages were heardseen: don't remember\n",
      "ML503    Are there ways to avoid getting malaria\n",
      "ML503A   Malaria can be prevented by: sleep inside a mosquito net\n",
      "ML503B   Malaria can be prevented by: sleep inside an insecticide-treated mosquito net\n",
      "ML503C   Malaria can be prevented by: use mosquito repellent or coil\n",
      "ML503D   Malaria can be prevented by: take preventive medications\n",
      "ML503E   Malaria can be prevented by: spray house with insecticide\n",
      "ML503F   Malaria can be prevented by: fill in stagnant waters (puddles)\n",
      "ML503G   Malaria can be prevented by: keep surroundings clean\n",
      "ML503H   Malaria can be prevented by: put mosquito screen on windows\n",
      "ML503I   NA - Malaria can be prevented by: CS\n",
      "ML503J   NA - Malaria can be prevented by: CS\n",
      "ML503K   NA - Malaria can be prevented by: CS\n",
      "ML503X   Malaria can be prevented by: other\n",
      "ML503Z   Malaria can be prevented by: don't know\n",
      "ML505    Agreedisagree with: people in community get malaria in rainy season\n",
      "ML506    Agreedisagree with: when child has fever worry it is malaria\n",
      "ML507    Agreedisagree with: getting malaria not a problem as can be treated\n",
      "ML508    Agreedisagree with: only weak children can die from malaria\n",
      "ML509    Agreedisagree with: sleep inside net when there are lots of mosquitoes\n",
      "ML510    Agreedisagree with: sleep inside net when there are few mosquitoes\n",
      "ML511    Agreedisagree with: don't like sleep inside a net when is too warm\n",
      "ML512    Agreedisagree with: if child has fever best to give medicine available at home\n",
      "ML513    Agreedisagree with: people take children to health provider same day or next day develop fever\n",
      "ML514    Agreedisagree with: people who have nets usually sleep under every night\n",
      "S512A    Agreedisagree with: important children take full dose of medicine they are prescribed for malaria\n",
      "SLGA     Local government area\n",
      "SREGION  Region\n",
      "SBONNY   Bonny State\n",
      "S104A    Had informal education\n",
      "S104B    Type of informal education\n",
      "S211     Number of births 2016-2021\n",
      "IDX95    Index to Birth History\n",
      "S411A    Referred to higher level of care\n",
      "S415A    Fever went away after took ACT\n"
     ]
    }
   ],
   "source": [
    "for i in data.columns:\n",
    "    print(i)"
   ],
   "metadata": {
    "collapsed": false,
    "ExecuteTime": {
     "end_time": "2023-07-23T12:18:58.428234Z",
     "start_time": "2023-07-23T12:18:58.425341Z"
    }
   }
  },
  {
   "cell_type": "code",
   "execution_count": null,
   "outputs": [],
   "source": [],
   "metadata": {
    "collapsed": false
   }
  },
  {
   "cell_type": "code",
   "execution_count": 22,
   "outputs": [
    {
     "name": "stdout",
     "output_type": "stream",
     "text": [
      "Total Features:  54\n"
     ]
    }
   ],
   "source": [
    "region_features = ['V024     Region', 'V101     Region', 'SREGION  Region']\n",
    "residence_features = ['V025     Type of place of residence', 'V102     Type of place of residence', 'V140     De jure type of place of residence']\n",
    "age_features = ['V151     Sex of household head', 'V152     Age of household head']\n",
    "house_hold_characteristics_features = ['V119     Household has: electricity', 'V120     Household has: radio',\n",
    "                                       'V121     Household has: television', 'V122     Household has: refrigerator',\n",
    "                                       'V123     Household has: bicycle', 'V124     Household has: motorcyclescooter',\n",
    "                                       'V125     Household has: cartruck',\n",
    "                                       'V153     Household has: telephone (land-line)']\n",
    "wealth_index_features = ['V190     Wealth index combined', 'V191     Wealth index factor score combined (5 decimals)']\n",
    "residence_type_features = ['V025     Type of place of residence', 'V102     Type of place of residence',\n",
    "                           'V140     De jure type of place of residence']\n",
    "house_hold_members_features = ['V136     Number of household members (listed)',\n",
    "                               'V137     Number of children 5 and under in household (de jure)',\n",
    "                               'V138     Number of eligible women in household (de facto)']\n",
    "respondent_features = [\"V012     Respondent's current age\", \"V009     Respondent's month of birth\",\n",
    "                       \"V010     Respondent's year of birth\"]\n",
    "demographic_features = ['V106     Highest educational level', 'V113     Source of drinking water', 'V130     Religion',\n",
    "                        'V131     Ethnicity', 'V149     Educational attainment',\n",
    "                        'V150     Relationship to household head', 'V155     Literacy',\n",
    "                        'V169A    Owns a mobile telephone', 'V171A    Use of internet',\n",
    "                        'V218     Number of living children', 'V213     Currently pregnant',\n",
    "                        'V027     Number of visits', 'V201     Total children ever born', 'V202     Sons at home',\n",
    "                        'V203     Daughters at home', 'V204     Sons elsewhere', 'V205     Daughters elsewhere',\n",
    "                        'V206     Sons who have died', 'V207     Daughters who have died',\n",
    "                        'V208     Births in last five years', 'V209     Births in past year',\n",
    "                        'V210     Births in month of interview', 'V214     Duration of current pregnancy in months',\n",
    "                        'V219     Living children + current pregnancy', 'V222     Last birth to interview (months)',\n",
    "                        'V223     Completeness of current pregnancy information',\n",
    "                        'ML101    Type of mosquito bed net(s) slept under last night', ]\n",
    "\n",
    "total_features = region_features + residence_features + age_features + house_hold_characteristics_features + wealth_index_features + residence_type_features + house_hold_members_features + respondent_features + demographic_features\n",
    "\n",
    "print('Total Features: ', len(total_features))"
   ],
   "metadata": {
    "collapsed": false,
    "ExecuteTime": {
     "end_time": "2023-07-23T12:57:36.126112Z",
     "start_time": "2023-07-23T12:57:36.115601Z"
    }
   }
  },
  {
   "cell_type": "code",
   "execution_count": 25,
   "outputs": [
    {
     "name": "stdout",
     "output_type": "stream",
     "text": [
      "Null Features:  0\n"
     ]
    }
   ],
   "source": [
    "#checking for features will all null values\n",
    "null_features = []\n",
    "for i in total_features:\n",
    "    if data[i].isnull().sum() == data.shape[0]:\n",
    "        null_features.append(i)\n",
    "print('Null Features: ', len(null_features))"
   ],
   "metadata": {
    "collapsed": false,
    "ExecuteTime": {
     "end_time": "2023-07-23T12:57:56.520233Z",
     "start_time": "2023-07-23T12:57:56.509422Z"
    }
   }
  },
  {
   "cell_type": "code",
   "execution_count": null,
   "outputs": [],
   "source": [],
   "metadata": {
    "collapsed": false
   }
  }
 ],
 "metadata": {
  "kernelspec": {
   "display_name": "Python 3",
   "language": "python",
   "name": "python3"
  },
  "language_info": {
   "codemirror_mode": {
    "name": "ipython",
    "version": 2
   },
   "file_extension": ".py",
   "mimetype": "text/x-python",
   "name": "python",
   "nbconvert_exporter": "python",
   "pygments_lexer": "ipython2",
   "version": "2.7.6"
  }
 },
 "nbformat": 4,
 "nbformat_minor": 0
}
