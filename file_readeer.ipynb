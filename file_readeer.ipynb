{
 "cells": [
  {
   "cell_type": "code",
   "execution_count": 43,
   "outputs": [
    {
     "name": "stdout",
     "output_type": "stream",
     "text": [
      "Defaulting to user installation because normal site-packages is not writeable\n",
      "Requirement already satisfied: pyreadstat in c:\\users\\sahee\\appdata\\roaming\\python\\python39\\site-packages (1.2.1)\n",
      "Requirement already satisfied: pandas>=1.2.0 in c:\\programdata\\anaconda3\\lib\\site-packages (from pyreadstat) (1.4.4)\n",
      "Requirement already satisfied: python-dateutil>=2.8.1 in c:\\programdata\\anaconda3\\lib\\site-packages (from pandas>=1.2.0->pyreadstat) (2.8.2)\n",
      "Requirement already satisfied: pytz>=2020.1 in c:\\programdata\\anaconda3\\lib\\site-packages (from pandas>=1.2.0->pyreadstat) (2022.1)\n",
      "Requirement already satisfied: numpy>=1.18.5 in c:\\programdata\\anaconda3\\lib\\site-packages (from pandas>=1.2.0->pyreadstat) (1.21.5)\n",
      "Requirement already satisfied: six>=1.5 in c:\\programdata\\anaconda3\\lib\\site-packages (from python-dateutil>=2.8.1->pandas>=1.2.0->pyreadstat) (1.16.0)\n"
     ]
    }
   ],
   "source": [
    "!pip install pyreadstat"
   ],
   "metadata": {
    "collapsed": false
   }
  },
  {
   "cell_type": "code",
   "execution_count": 44,
   "metadata": {
    "collapsed": true
   },
   "outputs": [],
   "source": [
    "import os\n",
    "import zipfile\n",
    "import pandas as pd\n",
    "import pyreadstat"
   ]
  },
  {
   "cell_type": "code",
   "execution_count": 45,
   "outputs": [
    {
     "name": "stdout",
     "output_type": "stream",
     "text": [
      "Extracting :  NGKR81SV/NGKR81FL.SPS  into  data/output\n",
      "Extracting :  NGHR81SV/NGHR81FL.SPS  into  data/output\n",
      "Extracting :  NGHR81SV/NGHR81FL.SAV  into  data/output\n",
      "Extracting :  NGKR81SV/NGKR81FL.SAV  into  data/output\n",
      "Extracting :  NGFW81SV/NGFW81FL.SPS  into  data/output\n",
      "Extracting :  NGIR81SV/NGIR81FL.SAV  into  data/output\n",
      "Extracting :  NGPR81SV/NGPR81FL.SPS  into  data/output\n",
      "Extracting :  NGIR81SV/NGIR81FL.SPS  into  data/output\n",
      "Extracting :  NGFW81SV/NGFW81FL.SAV  into  data/output\n",
      "Extracting :  NGPR81SV/NGPR81FL.SAV  into  data/output\n"
     ]
    }
   ],
   "source": [
    "directory_path = \"data/zipped\"\n",
    "output_directory = \"data/output\"\n",
    "if not os.path.exists(output_directory):\n",
    "    os.mkdir(output_directory)\n",
    "extensions_to_extract = [\".SAV\", \"SPS\"]\n",
    "for root, directories, files in os.walk(directory_path):\n",
    "    for file in files:\n",
    "        file_path = root+'/'+file\n",
    "        with zipfile.ZipFile(file_path, \"r\") as zip_file:\n",
    "            file_names = zip_file.namelist()\n",
    "            for file_name in file_names:\n",
    "                for extension in extensions_to_extract:\n",
    "                    if file_name.endswith(extension):\n",
    "                        print('Extracting : ',file_name,' into ', output_directory)\n",
    "                        zip_file.extract(file_name,output_directory)"
   ],
   "metadata": {
    "collapsed": false
   }
  }
 ],
 "metadata": {
  "kernelspec": {
   "display_name": "Python 3",
   "language": "python",
   "name": "python3"
  },
  "language_info": {
   "codemirror_mode": {
    "name": "ipython",
    "version": 2
   },
   "file_extension": ".py",
   "mimetype": "text/x-python",
   "name": "python",
   "nbconvert_exporter": "python",
   "pygments_lexer": "ipython2",
   "version": "2.7.6"
  }
 },
 "nbformat": 4,
 "nbformat_minor": 0
}
