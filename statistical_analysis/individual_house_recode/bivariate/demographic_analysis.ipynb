{
 "cells": [
  {
   "cell_type": "code",
   "execution_count": null,
   "id": "initial_id",
   "metadata": {
    "collapsed": true
   },
   "outputs": [],
   "source": [
    "from statistical_analysis.individual_house_recode.individual_data_formatter import generate_formatted_children_under_five \n",
    "from statistical_analysis.bivariate_analysis import bi_variate_analysis"
   ]
  },
  {
   "cell_type": "code",
   "execution_count": null,
   "outputs": [],
   "source": [
    "individual_recode = generate_formatted_children_under_five()"
   ],
   "metadata": {
    "collapsed": false
   },
   "id": "36c631aeed8fac45"
  },
  {
   "cell_type": "code",
   "execution_count": null,
   "outputs": [],
   "source": [
    "individual_recode.head()"
   ],
   "metadata": {
    "collapsed": false
   },
   "id": "6ad81a4208ec6443"
  },
  {
   "cell_type": "code",
   "execution_count": null,
   "outputs": [],
   "source": [
    "demographic_factors = [\n",
    "    'HV009    Number of household members', 'HV010    Number of eligible women in household',\n",
    "    'HV012    Number of de jure members', 'HV013    Number of de facto members',\n",
    "    'HV014    Number of children 5 and under (de jure)',\n",
    "    'HV220    Age of head of household',\n",
    "    'HV219    Sex of head of household'\n",
    "]\n",
    "target = 'HML32$01 Final result of malaria from blood smear test'\n",
    "for col in demographic_factors:\n",
    "    bi_variate_analysis(individual_recode, col, target)"
   ],
   "metadata": {
    "collapsed": false
   },
   "id": "b7d9e7bcaa4c21a2"
  },
  {
   "cell_type": "code",
   "execution_count": null,
   "outputs": [],
   "source": [],
   "metadata": {
    "collapsed": false
   },
   "id": "c1dbe3a6bdf5d222"
  }
 ],
 "metadata": {
  "kernelspec": {
   "display_name": "Python 3",
   "language": "python",
   "name": "python3"
  },
  "language_info": {
   "codemirror_mode": {
    "name": "ipython",
    "version": 2
   },
   "file_extension": ".py",
   "mimetype": "text/x-python",
   "name": "python",
   "nbconvert_exporter": "python",
   "pygments_lexer": "ipython2",
   "version": "2.7.6"
  }
 },
 "nbformat": 4,
 "nbformat_minor": 5
}
