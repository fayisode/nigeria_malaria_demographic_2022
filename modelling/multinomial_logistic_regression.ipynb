{
 "cells": [
  {
   "cell_type": "code",
   "execution_count": 1,
   "outputs": [],
   "source": [
    "from individual_data_formatter import generate_formatted_children_under_five "
   ],
   "metadata": {
    "collapsed": false,
    "ExecuteTime": {
     "end_time": "2023-09-20T12:14:23.484427Z",
     "start_time": "2023-09-20T12:14:23.362397Z"
    }
   },
   "id": "55de473e81e8faa2"
  },
  {
   "cell_type": "code",
   "execution_count": 2,
   "outputs": [
    {
     "name": "stderr",
     "output_type": "stream",
     "text": [
      "/Users/saheedfaremi/Library/CloudStorage/OneDrive-Etihuku/malariaDemographic/modelling/individual_data_formatter.py:12: DtypeWarning: Columns (48,65,74,82,84,85,86,87,88,89,90,91,128,129,130,131,132,133,134,135,136,142,143,149,150,163,164,198,199,203,204,205,206,212,213,220,228,234) have mixed types. Specify dtype option on import or set low_memory=False.\n",
      "  individual_recode = pd.read_csv('../data/generate/individual_house_hold_recode.csv')\n"
     ]
    }
   ],
   "source": [
    "individual_recode = generate_formatted_children_under_five()"
   ],
   "metadata": {
    "collapsed": false,
    "ExecuteTime": {
     "end_time": "2023-09-20T12:14:25.415464Z",
     "start_time": "2023-09-20T12:14:23.366018Z"
    }
   },
   "id": "915a80efb09833bb"
  },
  {
   "cell_type": "code",
   "execution_count": 3,
   "outputs": [],
   "source": [
    "household_Information = [\n",
    "    'HV004    Ultimate area unit',\n",
    "    'HV009    Number of household members', 'HV010    Number of eligible women in household',\n",
    "    'HV012    Number of de jure members', 'HV013    Number of de facto members',\n",
    "    'HV014    Number of children 5 and under (de jure)', \n",
    "]\n",
    "household_characteristics = [\n",
    "    'HV204    Time to get to water source (minutes)', 'HV205    Type of toilet facility', 'HV206    Has electricity',\n",
    "    'HV207    Has radio', 'HV208    Has television', 'HV209    Has refrigerator', 'HV210    Has bicycle',\n",
    "    'HV211    Has motorcyclescooter', 'HV212    Has cartruck', 'HV213    Main floor material',\n",
    "    'HV214    Main wall material', 'HV215    Main roof material', 'HV216    Number of rooms used for sleeping',\n",
    "    'HV219    Sex of head of household', 'HV220    Age of head of household',\n",
    "    'HV221    Has telephone (land-line)', 'HV222    Type of cookstove', 'HV225    Share toilet with other households',\n",
    "    'HV227    Has mosquito bed net for sleeping', 'HV228    Children under 5 slept under mosquito bed net last night',\n",
    "    'HV235    Location of source for water', 'HV238    Number of households sharing toilet',\n",
    "    'HV244    Owns land usable for agriculture', 'HV245    Hectares of agricultural land (1 decimal)',\n",
    "    'HV246    Owns livestock, herds or farm animals', 'HV247    Has bank account', 'HV270    Wealth index combined',\n",
    "    'HV222    Type of cookstove', 'HV227    Has mosquito bed net for sleeping',\n",
    "    'HV228    Children under 5 slept under mosquito bed net last night', 'HV238    Number of households sharing toilet',\n",
    "    'HV245    Hectares of agricultural land (1 decimal)', 'HV246    Owns livestock, herds or farm animals',\n",
    "    'HV246A   Owns cattle', 'HV246B   Owns cows bulls', 'HV246C   Owns horses donkeys mules', 'HV246D   Owns goats',\n",
    "    'HV246E   Owns sheep', 'HV246F   Owns chickenspoultry', 'HV246G   Owns pigs', 'HV246H   Owns camels'\n",
    "]\n",
    "\n",
    "\n",
    "bed_net_usage_and_malaria = [\n",
    "    'HML1     Number of mosquito bed nets'\n",
    "]\n",
    "\n",
    "socio_economic_factors = household_Information + household_characteristics + bed_net_usage_and_malaria\n",
    "#removing duplicates\n",
    "socio_economic_factors = sorted(set(socio_economic_factors))"
   ],
   "metadata": {
    "collapsed": false,
    "ExecuteTime": {
     "end_time": "2023-09-20T12:14:25.420127Z",
     "start_time": "2023-09-20T12:14:25.397734Z"
    }
   },
   "id": "704f519012514d7c"
  },
  {
   "cell_type": "code",
   "execution_count": 4,
   "outputs": [],
   "source": [
    "demographic_factors = [\n",
    "    'HV009    Number of household members', 'HV010    Number of eligible women in household',\n",
    "    'HV012    Number of de jure members', 'HV013    Number of de facto members',\n",
    "    'HV014    Number of children 5 and under (de jure)',\n",
    "    'HV220    Age of head of household',\n",
    "    'HV219    Sex of head of household'\n",
    "]\n",
    "demographic_factors = sorted(set(demographic_factors))"
   ],
   "metadata": {
    "collapsed": false,
    "ExecuteTime": {
     "end_time": "2023-09-20T12:14:25.420259Z",
     "start_time": "2023-09-20T12:14:25.402515Z"
    }
   },
   "id": "c6e02a622bb3558f"
  },
  {
   "cell_type": "code",
   "execution_count": 5,
   "outputs": [],
   "source": [
    "demo_socio_data = individual_recode[sorted(set(demographic_factors + socio_economic_factors))]"
   ],
   "metadata": {
    "collapsed": false,
    "ExecuteTime": {
     "end_time": "2023-09-20T12:14:25.420315Z",
     "start_time": "2023-09-20T12:14:25.410381Z"
    }
   },
   "id": "71baaf748da21d91"
  },
  {
   "cell_type": "code",
   "execution_count": 6,
   "outputs": [
    {
     "name": "stderr",
     "output_type": "stream",
     "text": [
      "/var/folders/xm/rq0m1_2936361j6vzf7xmlk40000gn/T/ipykernel_60418/2025143192.py:5: SettingWithCopyWarning: \n",
      "A value is trying to be set on a copy of a slice from a DataFrame.\n",
      "Try using .loc[row_indexer,col_indexer] = value instead\n",
      "\n",
      "See the caveats in the documentation: https://pandas.pydata.org/pandas-docs/stable/user_guide/indexing.html#returning-a-view-versus-a-copy\n",
      "  demo_socio_data[column] = label_encoder.fit_transform(demo_socio_data[column])\n",
      "/var/folders/xm/rq0m1_2936361j6vzf7xmlk40000gn/T/ipykernel_60418/2025143192.py:5: SettingWithCopyWarning: \n",
      "A value is trying to be set on a copy of a slice from a DataFrame.\n",
      "Try using .loc[row_indexer,col_indexer] = value instead\n",
      "\n",
      "See the caveats in the documentation: https://pandas.pydata.org/pandas-docs/stable/user_guide/indexing.html#returning-a-view-versus-a-copy\n",
      "  demo_socio_data[column] = label_encoder.fit_transform(demo_socio_data[column])\n",
      "/var/folders/xm/rq0m1_2936361j6vzf7xmlk40000gn/T/ipykernel_60418/2025143192.py:5: SettingWithCopyWarning: \n",
      "A value is trying to be set on a copy of a slice from a DataFrame.\n",
      "Try using .loc[row_indexer,col_indexer] = value instead\n",
      "\n",
      "See the caveats in the documentation: https://pandas.pydata.org/pandas-docs/stable/user_guide/indexing.html#returning-a-view-versus-a-copy\n",
      "  demo_socio_data[column] = label_encoder.fit_transform(demo_socio_data[column])\n",
      "/var/folders/xm/rq0m1_2936361j6vzf7xmlk40000gn/T/ipykernel_60418/2025143192.py:5: SettingWithCopyWarning: \n",
      "A value is trying to be set on a copy of a slice from a DataFrame.\n",
      "Try using .loc[row_indexer,col_indexer] = value instead\n",
      "\n",
      "See the caveats in the documentation: https://pandas.pydata.org/pandas-docs/stable/user_guide/indexing.html#returning-a-view-versus-a-copy\n",
      "  demo_socio_data[column] = label_encoder.fit_transform(demo_socio_data[column])\n",
      "/var/folders/xm/rq0m1_2936361j6vzf7xmlk40000gn/T/ipykernel_60418/2025143192.py:5: SettingWithCopyWarning: \n",
      "A value is trying to be set on a copy of a slice from a DataFrame.\n",
      "Try using .loc[row_indexer,col_indexer] = value instead\n",
      "\n",
      "See the caveats in the documentation: https://pandas.pydata.org/pandas-docs/stable/user_guide/indexing.html#returning-a-view-versus-a-copy\n",
      "  demo_socio_data[column] = label_encoder.fit_transform(demo_socio_data[column])\n",
      "/var/folders/xm/rq0m1_2936361j6vzf7xmlk40000gn/T/ipykernel_60418/2025143192.py:5: SettingWithCopyWarning: \n",
      "A value is trying to be set on a copy of a slice from a DataFrame.\n",
      "Try using .loc[row_indexer,col_indexer] = value instead\n",
      "\n",
      "See the caveats in the documentation: https://pandas.pydata.org/pandas-docs/stable/user_guide/indexing.html#returning-a-view-versus-a-copy\n",
      "  demo_socio_data[column] = label_encoder.fit_transform(demo_socio_data[column])\n",
      "/var/folders/xm/rq0m1_2936361j6vzf7xmlk40000gn/T/ipykernel_60418/2025143192.py:5: SettingWithCopyWarning: \n",
      "A value is trying to be set on a copy of a slice from a DataFrame.\n",
      "Try using .loc[row_indexer,col_indexer] = value instead\n",
      "\n",
      "See the caveats in the documentation: https://pandas.pydata.org/pandas-docs/stable/user_guide/indexing.html#returning-a-view-versus-a-copy\n",
      "  demo_socio_data[column] = label_encoder.fit_transform(demo_socio_data[column])\n",
      "/var/folders/xm/rq0m1_2936361j6vzf7xmlk40000gn/T/ipykernel_60418/2025143192.py:5: SettingWithCopyWarning: \n",
      "A value is trying to be set on a copy of a slice from a DataFrame.\n",
      "Try using .loc[row_indexer,col_indexer] = value instead\n",
      "\n",
      "See the caveats in the documentation: https://pandas.pydata.org/pandas-docs/stable/user_guide/indexing.html#returning-a-view-versus-a-copy\n",
      "  demo_socio_data[column] = label_encoder.fit_transform(demo_socio_data[column])\n",
      "/var/folders/xm/rq0m1_2936361j6vzf7xmlk40000gn/T/ipykernel_60418/2025143192.py:5: SettingWithCopyWarning: \n",
      "A value is trying to be set on a copy of a slice from a DataFrame.\n",
      "Try using .loc[row_indexer,col_indexer] = value instead\n",
      "\n",
      "See the caveats in the documentation: https://pandas.pydata.org/pandas-docs/stable/user_guide/indexing.html#returning-a-view-versus-a-copy\n",
      "  demo_socio_data[column] = label_encoder.fit_transform(demo_socio_data[column])\n",
      "/var/folders/xm/rq0m1_2936361j6vzf7xmlk40000gn/T/ipykernel_60418/2025143192.py:5: SettingWithCopyWarning: \n",
      "A value is trying to be set on a copy of a slice from a DataFrame.\n",
      "Try using .loc[row_indexer,col_indexer] = value instead\n",
      "\n",
      "See the caveats in the documentation: https://pandas.pydata.org/pandas-docs/stable/user_guide/indexing.html#returning-a-view-versus-a-copy\n",
      "  demo_socio_data[column] = label_encoder.fit_transform(demo_socio_data[column])\n",
      "/var/folders/xm/rq0m1_2936361j6vzf7xmlk40000gn/T/ipykernel_60418/2025143192.py:5: SettingWithCopyWarning: \n",
      "A value is trying to be set on a copy of a slice from a DataFrame.\n",
      "Try using .loc[row_indexer,col_indexer] = value instead\n",
      "\n",
      "See the caveats in the documentation: https://pandas.pydata.org/pandas-docs/stable/user_guide/indexing.html#returning-a-view-versus-a-copy\n",
      "  demo_socio_data[column] = label_encoder.fit_transform(demo_socio_data[column])\n",
      "/var/folders/xm/rq0m1_2936361j6vzf7xmlk40000gn/T/ipykernel_60418/2025143192.py:5: SettingWithCopyWarning: \n",
      "A value is trying to be set on a copy of a slice from a DataFrame.\n",
      "Try using .loc[row_indexer,col_indexer] = value instead\n",
      "\n",
      "See the caveats in the documentation: https://pandas.pydata.org/pandas-docs/stable/user_guide/indexing.html#returning-a-view-versus-a-copy\n",
      "  demo_socio_data[column] = label_encoder.fit_transform(demo_socio_data[column])\n",
      "/var/folders/xm/rq0m1_2936361j6vzf7xmlk40000gn/T/ipykernel_60418/2025143192.py:5: SettingWithCopyWarning: \n",
      "A value is trying to be set on a copy of a slice from a DataFrame.\n",
      "Try using .loc[row_indexer,col_indexer] = value instead\n",
      "\n",
      "See the caveats in the documentation: https://pandas.pydata.org/pandas-docs/stable/user_guide/indexing.html#returning-a-view-versus-a-copy\n",
      "  demo_socio_data[column] = label_encoder.fit_transform(demo_socio_data[column])\n",
      "/var/folders/xm/rq0m1_2936361j6vzf7xmlk40000gn/T/ipykernel_60418/2025143192.py:5: SettingWithCopyWarning: \n",
      "A value is trying to be set on a copy of a slice from a DataFrame.\n",
      "Try using .loc[row_indexer,col_indexer] = value instead\n",
      "\n",
      "See the caveats in the documentation: https://pandas.pydata.org/pandas-docs/stable/user_guide/indexing.html#returning-a-view-versus-a-copy\n",
      "  demo_socio_data[column] = label_encoder.fit_transform(demo_socio_data[column])\n",
      "/var/folders/xm/rq0m1_2936361j6vzf7xmlk40000gn/T/ipykernel_60418/2025143192.py:5: SettingWithCopyWarning: \n",
      "A value is trying to be set on a copy of a slice from a DataFrame.\n",
      "Try using .loc[row_indexer,col_indexer] = value instead\n",
      "\n",
      "See the caveats in the documentation: https://pandas.pydata.org/pandas-docs/stable/user_guide/indexing.html#returning-a-view-versus-a-copy\n",
      "  demo_socio_data[column] = label_encoder.fit_transform(demo_socio_data[column])\n",
      "/var/folders/xm/rq0m1_2936361j6vzf7xmlk40000gn/T/ipykernel_60418/2025143192.py:5: SettingWithCopyWarning: \n",
      "A value is trying to be set on a copy of a slice from a DataFrame.\n",
      "Try using .loc[row_indexer,col_indexer] = value instead\n",
      "\n",
      "See the caveats in the documentation: https://pandas.pydata.org/pandas-docs/stable/user_guide/indexing.html#returning-a-view-versus-a-copy\n",
      "  demo_socio_data[column] = label_encoder.fit_transform(demo_socio_data[column])\n",
      "/var/folders/xm/rq0m1_2936361j6vzf7xmlk40000gn/T/ipykernel_60418/2025143192.py:5: SettingWithCopyWarning: \n",
      "A value is trying to be set on a copy of a slice from a DataFrame.\n",
      "Try using .loc[row_indexer,col_indexer] = value instead\n",
      "\n",
      "See the caveats in the documentation: https://pandas.pydata.org/pandas-docs/stable/user_guide/indexing.html#returning-a-view-versus-a-copy\n",
      "  demo_socio_data[column] = label_encoder.fit_transform(demo_socio_data[column])\n",
      "/var/folders/xm/rq0m1_2936361j6vzf7xmlk40000gn/T/ipykernel_60418/2025143192.py:5: SettingWithCopyWarning: \n",
      "A value is trying to be set on a copy of a slice from a DataFrame.\n",
      "Try using .loc[row_indexer,col_indexer] = value instead\n",
      "\n",
      "See the caveats in the documentation: https://pandas.pydata.org/pandas-docs/stable/user_guide/indexing.html#returning-a-view-versus-a-copy\n",
      "  demo_socio_data[column] = label_encoder.fit_transform(demo_socio_data[column])\n",
      "/var/folders/xm/rq0m1_2936361j6vzf7xmlk40000gn/T/ipykernel_60418/2025143192.py:5: SettingWithCopyWarning: \n",
      "A value is trying to be set on a copy of a slice from a DataFrame.\n",
      "Try using .loc[row_indexer,col_indexer] = value instead\n",
      "\n",
      "See the caveats in the documentation: https://pandas.pydata.org/pandas-docs/stable/user_guide/indexing.html#returning-a-view-versus-a-copy\n",
      "  demo_socio_data[column] = label_encoder.fit_transform(demo_socio_data[column])\n",
      "/var/folders/xm/rq0m1_2936361j6vzf7xmlk40000gn/T/ipykernel_60418/2025143192.py:5: SettingWithCopyWarning: \n",
      "A value is trying to be set on a copy of a slice from a DataFrame.\n",
      "Try using .loc[row_indexer,col_indexer] = value instead\n",
      "\n",
      "See the caveats in the documentation: https://pandas.pydata.org/pandas-docs/stable/user_guide/indexing.html#returning-a-view-versus-a-copy\n",
      "  demo_socio_data[column] = label_encoder.fit_transform(demo_socio_data[column])\n",
      "/var/folders/xm/rq0m1_2936361j6vzf7xmlk40000gn/T/ipykernel_60418/2025143192.py:5: SettingWithCopyWarning: \n",
      "A value is trying to be set on a copy of a slice from a DataFrame.\n",
      "Try using .loc[row_indexer,col_indexer] = value instead\n",
      "\n",
      "See the caveats in the documentation: https://pandas.pydata.org/pandas-docs/stable/user_guide/indexing.html#returning-a-view-versus-a-copy\n",
      "  demo_socio_data[column] = label_encoder.fit_transform(demo_socio_data[column])\n",
      "/var/folders/xm/rq0m1_2936361j6vzf7xmlk40000gn/T/ipykernel_60418/2025143192.py:5: SettingWithCopyWarning: \n",
      "A value is trying to be set on a copy of a slice from a DataFrame.\n",
      "Try using .loc[row_indexer,col_indexer] = value instead\n",
      "\n",
      "See the caveats in the documentation: https://pandas.pydata.org/pandas-docs/stable/user_guide/indexing.html#returning-a-view-versus-a-copy\n",
      "  demo_socio_data[column] = label_encoder.fit_transform(demo_socio_data[column])\n",
      "/var/folders/xm/rq0m1_2936361j6vzf7xmlk40000gn/T/ipykernel_60418/2025143192.py:5: SettingWithCopyWarning: \n",
      "A value is trying to be set on a copy of a slice from a DataFrame.\n",
      "Try using .loc[row_indexer,col_indexer] = value instead\n",
      "\n",
      "See the caveats in the documentation: https://pandas.pydata.org/pandas-docs/stable/user_guide/indexing.html#returning-a-view-versus-a-copy\n",
      "  demo_socio_data[column] = label_encoder.fit_transform(demo_socio_data[column])\n"
     ]
    }
   ],
   "source": [
    "from sklearn.preprocessing import LabelEncoder\n",
    "\n",
    "label_encoder = LabelEncoder()\n",
    "for column in demo_socio_data.select_dtypes(include=['object']).columns:\n",
    "    demo_socio_data[column] = label_encoder.fit_transform(demo_socio_data[column])"
   ],
   "metadata": {
    "collapsed": false,
    "ExecuteTime": {
     "end_time": "2023-09-20T12:14:25.499265Z",
     "start_time": "2023-09-20T12:14:25.419821Z"
    }
   },
   "id": "4afa90444623e445"
  },
  {
   "cell_type": "code",
   "execution_count": 7,
   "outputs": [
    {
     "data": {
      "text/plain": "HML1     Number of mosquito bed nets                                 0\nHV004    Ultimate area unit                                          0\nHV009    Number of household members                                 0\nHV010    Number of eligible women in household                       0\nHV012    Number of de jure members                                   0\nHV013    Number of de facto members                                  0\nHV014    Number of children 5 and under (de jure)                    0\nHV204    Time to get to water source (minutes)                       0\nHV205    Type of toilet facility                                     0\nHV206    Has electricity                                             0\nHV207    Has radio                                                   0\nHV208    Has television                                              0\nHV209    Has refrigerator                                            0\nHV210    Has bicycle                                                 0\nHV211    Has motorcyclescooter                                       0\nHV212    Has cartruck                                                0\nHV213    Main floor material                                         0\nHV214    Main wall material                                          0\nHV215    Main roof material                                          0\nHV216    Number of rooms used for sleeping                           0\nHV219    Sex of head of household                                    0\nHV220    Age of head of household                                    0\nHV221    Has telephone (land-line)                                   0\nHV222    Type of cookstove                                           0\nHV225    Share toilet with other households                          0\nHV227    Has mosquito bed net for sleeping                           0\nHV228    Children under 5 slept under mosquito bed net last night    0\nHV235    Location of source for water                                0\nHV238    Number of households sharing toilet                         0\nHV244    Owns land usable for agriculture                            0\nHV245    Hectares of agricultural land (1 decimal)                   0\nHV246    Owns livestock, herds or farm animals                       0\nHV246A   Owns cattle                                                 0\nHV246B   Owns cows bulls                                             0\nHV246C   Owns horses donkeys mules                                   0\nHV246D   Owns goats                                                  0\nHV246E   Owns sheep                                                  0\nHV246F   Owns chickenspoultry                                        0\nHV246G   Owns pigs                                                   0\nHV246H   Owns camels                                                 0\nHV247    Has bank account                                            0\nHV270    Wealth index combined                                       0\ndtype: int64"
     },
     "execution_count": 7,
     "metadata": {},
     "output_type": "execute_result"
    }
   ],
   "source": [
    "demo_socio_data = demo_socio_data.fillna(demo_socio_data.mean())\n",
    "demo_socio_data.isnull().sum()"
   ],
   "metadata": {
    "collapsed": false,
    "ExecuteTime": {
     "end_time": "2023-09-20T12:14:25.514521Z",
     "start_time": "2023-09-20T12:14:25.498017Z"
    }
   },
   "id": "8acf57cda17c2ea2"
  },
  {
   "cell_type": "code",
   "execution_count": 10,
   "id": "initial_id",
   "metadata": {
    "collapsed": true,
    "ExecuteTime": {
     "end_time": "2023-09-20T12:15:48.167102Z",
     "start_time": "2023-09-20T12:15:48.019341Z"
    }
   },
   "outputs": [],
   "source": [
    "from sklearn.model_selection import train_test_split\n",
    "import matplotlib.pyplot as plt\n",
    "import numpy as np\n",
    "import pandas as pd\n",
    "pd.set_option('display.max_rows', 500)\n",
    "\n",
    "from sklearn.metrics import accuracy_score\n",
    "from sklearn.linear_model import LogisticRegression\n",
    "from sklearn.svm import SVC\n",
    "from sklearn.gaussian_process import GaussianProcessClassifier\n",
    "from sklearn.gaussian_process.kernels import RBF\n",
    "\n",
    "target = 'HML32$01 Final result of malaria from blood smear test'\n",
    "\n",
    "X = demo_socio_data  # we only take the first two features for visualization\n",
    "y = individual_recode[target]\n",
    "X_train, X_test, y_train, y_test = train_test_split(X, y, test_size=0.2, random_state=42)\n",
    "\n",
    "\n",
    "n_features = X_train.shape[1]\n",
    "\n",
    "random_state=0\n",
    "seed = 1111\n",
    "\n",
    "C = 10\n",
    "kernel = 1.0 * RBF([1.0, 1.0])  # for GPC\n",
    "\n",
    "# Create different classifiers.\n",
    "classifiers = {\n",
    "    'L1 logistic': LogisticRegression(C=C, penalty='l1',\n",
    "                                      solver='saga',\n",
    "                                      multi_class='multinomial',\n",
    "                                      max_iter=10000),\n",
    "    'L1 logistic (Multinomial)': LogisticRegression(C=C, penalty='l1',\n",
    "                                                    solver='saga',\n",
    "                                                    multi_class='multinomial',\n",
    "                                                    max_iter=10000),\n",
    "    'L2 logistic (Multinomial)': LogisticRegression(C=C, penalty='l2',\n",
    "                                                    solver='saga',\n",
    "                                                    multi_class='multinomial',\n",
    "                                                    max_iter=10000),\n",
    "    'L2 logistic (OvR)': LogisticRegression(C=C, penalty='l2',\n",
    "                                            solver='saga',\n",
    "                                            multi_class='ovr',\n",
    "                                            max_iter=10000),\n",
    "    'Linear SVC': SVC(kernel='linear', C=C, probability=True,\n",
    "                      random_state=0),\n",
    "    'GPC': GaussianProcessClassifier(kernel)\n",
    "}\n",
    "\n"
   ]
  },
  {
   "cell_type": "code",
   "execution_count": 11,
   "outputs": [
    {
     "data": {
      "text/plain": "(8524, 42)"
     },
     "execution_count": 11,
     "metadata": {},
     "output_type": "execute_result"
    }
   ],
   "source": [
    "X_train.shape"
   ],
   "metadata": {
    "collapsed": false,
    "ExecuteTime": {
     "end_time": "2023-09-20T12:15:56.699938Z",
     "start_time": "2023-09-20T12:15:56.691972Z"
    }
   },
   "id": "ef58140e22024e0"
  },
  {
   "cell_type": "code",
   "execution_count": 12,
   "outputs": [
    {
     "data": {
      "text/plain": "(2131, 42)"
     },
     "execution_count": 12,
     "metadata": {},
     "output_type": "execute_result"
    }
   ],
   "source": [
    "X_test.shape"
   ],
   "metadata": {
    "collapsed": false,
    "ExecuteTime": {
     "end_time": "2023-09-20T12:16:04.791807Z",
     "start_time": "2023-09-20T12:16:04.789125Z"
    }
   },
   "id": "8c31d3e771523aba"
  },
  {
   "cell_type": "code",
   "execution_count": 16,
   "outputs": [
    {
     "name": "stdout",
     "output_type": "stream",
     "text": [
      "Accuracy (train) for L1 logistic: 79.1% \n",
      "Accuracy (train) for L1 logistic (Multinomial): 79.1% \n",
      "Accuracy (train) for L2 logistic (Multinomial): 79.1% \n",
      "Accuracy (train) for L2 logistic (OvR): 79.1% \n",
      "Accuracy (train) for Linear SVC: 74.4% \n"
     ]
    },
    {
     "ename": "ValueError",
     "evalue": "Anisotropic kernel must have the same number of dimensions as data (2!=42)",
     "output_type": "error",
     "traceback": [
      "\u001B[0;31m---------------------------------------------------------------------------\u001B[0m",
      "\u001B[0;31mValueError\u001B[0m                                Traceback (most recent call last)",
      "Cell \u001B[0;32mIn[16], line 13\u001B[0m\n\u001B[1;32m      9\u001B[0m \u001B[38;5;66;03m# xx, yy = np.meshgrid(xx, yy)\u001B[39;00m\n\u001B[1;32m     10\u001B[0m \u001B[38;5;66;03m# Xfull = np.c_[xx.ravel(), yy.ravel()]\u001B[39;00m\n\u001B[1;32m     12\u001B[0m \u001B[38;5;28;01mfor\u001B[39;00m index, (name, classifier) \u001B[38;5;129;01min\u001B[39;00m \u001B[38;5;28menumerate\u001B[39m(classifiers\u001B[38;5;241m.\u001B[39mitems()):\n\u001B[0;32m---> 13\u001B[0m     \u001B[43mclassifier\u001B[49m\u001B[38;5;241;43m.\u001B[39;49m\u001B[43mfit\u001B[49m\u001B[43m(\u001B[49m\u001B[43mX_train\u001B[49m\u001B[43m,\u001B[49m\u001B[43m \u001B[49m\u001B[43my_train\u001B[49m\u001B[43m)\u001B[49m\n\u001B[1;32m     15\u001B[0m     y_pred \u001B[38;5;241m=\u001B[39m classifier\u001B[38;5;241m.\u001B[39mpredict(X_train)\n\u001B[1;32m     16\u001B[0m     accuracy \u001B[38;5;241m=\u001B[39m accuracy_score(y_train, y_pred)\n",
      "File \u001B[0;32m/Library/Python/3.9/site-packages/sklearn/gaussian_process/_gpc.py:742\u001B[0m, in \u001B[0;36mGaussianProcessClassifier.fit\u001B[0;34m(self, X, y)\u001B[0m\n\u001B[1;32m    739\u001B[0m     \u001B[38;5;28;01melse\u001B[39;00m:\n\u001B[1;32m    740\u001B[0m         \u001B[38;5;28;01mraise\u001B[39;00m \u001B[38;5;167;01mValueError\u001B[39;00m(\u001B[38;5;124m\"\u001B[39m\u001B[38;5;124mUnknown multi-class mode \u001B[39m\u001B[38;5;132;01m%s\u001B[39;00m\u001B[38;5;124m\"\u001B[39m \u001B[38;5;241m%\u001B[39m \u001B[38;5;28mself\u001B[39m\u001B[38;5;241m.\u001B[39mmulti_class)\n\u001B[0;32m--> 742\u001B[0m \u001B[38;5;28;43mself\u001B[39;49m\u001B[38;5;241;43m.\u001B[39;49m\u001B[43mbase_estimator_\u001B[49m\u001B[38;5;241;43m.\u001B[39;49m\u001B[43mfit\u001B[49m\u001B[43m(\u001B[49m\u001B[43mX\u001B[49m\u001B[43m,\u001B[49m\u001B[43m \u001B[49m\u001B[43my\u001B[49m\u001B[43m)\u001B[49m\n\u001B[1;32m    744\u001B[0m \u001B[38;5;28;01mif\u001B[39;00m \u001B[38;5;28mself\u001B[39m\u001B[38;5;241m.\u001B[39mn_classes_ \u001B[38;5;241m>\u001B[39m \u001B[38;5;241m2\u001B[39m:\n\u001B[1;32m    745\u001B[0m     \u001B[38;5;28mself\u001B[39m\u001B[38;5;241m.\u001B[39mlog_marginal_likelihood_value_ \u001B[38;5;241m=\u001B[39m np\u001B[38;5;241m.\u001B[39mmean(\n\u001B[1;32m    746\u001B[0m         [\n\u001B[1;32m    747\u001B[0m             estimator\u001B[38;5;241m.\u001B[39mlog_marginal_likelihood()\n\u001B[1;32m    748\u001B[0m             \u001B[38;5;28;01mfor\u001B[39;00m estimator \u001B[38;5;129;01min\u001B[39;00m \u001B[38;5;28mself\u001B[39m\u001B[38;5;241m.\u001B[39mbase_estimator_\u001B[38;5;241m.\u001B[39mestimators_\n\u001B[1;32m    749\u001B[0m         ]\n\u001B[1;32m    750\u001B[0m     )\n",
      "File \u001B[0;32m/Library/Python/3.9/site-packages/sklearn/gaussian_process/_gpc.py:229\u001B[0m, in \u001B[0;36m_BinaryGaussianProcessClassifierLaplace.fit\u001B[0;34m(self, X, y)\u001B[0m\n\u001B[1;32m    225\u001B[0m         \u001B[38;5;28;01mreturn\u001B[39;00m \u001B[38;5;241m-\u001B[39m\u001B[38;5;28mself\u001B[39m\u001B[38;5;241m.\u001B[39mlog_marginal_likelihood(theta, clone_kernel\u001B[38;5;241m=\u001B[39m\u001B[38;5;28;01mFalse\u001B[39;00m)\n\u001B[1;32m    227\u001B[0m \u001B[38;5;66;03m# First optimize starting from theta specified in kernel\u001B[39;00m\n\u001B[1;32m    228\u001B[0m optima \u001B[38;5;241m=\u001B[39m [\n\u001B[0;32m--> 229\u001B[0m     \u001B[38;5;28;43mself\u001B[39;49m\u001B[38;5;241;43m.\u001B[39;49m\u001B[43m_constrained_optimization\u001B[49m\u001B[43m(\u001B[49m\n\u001B[1;32m    230\u001B[0m \u001B[43m        \u001B[49m\u001B[43mobj_func\u001B[49m\u001B[43m,\u001B[49m\u001B[43m \u001B[49m\u001B[38;5;28;43mself\u001B[39;49m\u001B[38;5;241;43m.\u001B[39;49m\u001B[43mkernel_\u001B[49m\u001B[38;5;241;43m.\u001B[39;49m\u001B[43mtheta\u001B[49m\u001B[43m,\u001B[49m\u001B[43m \u001B[49m\u001B[38;5;28;43mself\u001B[39;49m\u001B[38;5;241;43m.\u001B[39;49m\u001B[43mkernel_\u001B[49m\u001B[38;5;241;43m.\u001B[39;49m\u001B[43mbounds\u001B[49m\n\u001B[1;32m    231\u001B[0m \u001B[43m    \u001B[49m\u001B[43m)\u001B[49m\n\u001B[1;32m    232\u001B[0m ]\n\u001B[1;32m    234\u001B[0m \u001B[38;5;66;03m# Additional runs are performed from log-uniform chosen initial\u001B[39;00m\n\u001B[1;32m    235\u001B[0m \u001B[38;5;66;03m# theta\u001B[39;00m\n\u001B[1;32m    236\u001B[0m \u001B[38;5;28;01mif\u001B[39;00m \u001B[38;5;28mself\u001B[39m\u001B[38;5;241m.\u001B[39mn_restarts_optimizer \u001B[38;5;241m>\u001B[39m \u001B[38;5;241m0\u001B[39m:\n",
      "File \u001B[0;32m/Library/Python/3.9/site-packages/sklearn/gaussian_process/_gpc.py:474\u001B[0m, in \u001B[0;36m_BinaryGaussianProcessClassifierLaplace._constrained_optimization\u001B[0;34m(self, obj_func, initial_theta, bounds)\u001B[0m\n\u001B[1;32m    472\u001B[0m \u001B[38;5;28;01mdef\u001B[39;00m \u001B[38;5;21m_constrained_optimization\u001B[39m(\u001B[38;5;28mself\u001B[39m, obj_func, initial_theta, bounds):\n\u001B[1;32m    473\u001B[0m     \u001B[38;5;28;01mif\u001B[39;00m \u001B[38;5;28mself\u001B[39m\u001B[38;5;241m.\u001B[39moptimizer \u001B[38;5;241m==\u001B[39m \u001B[38;5;124m\"\u001B[39m\u001B[38;5;124mfmin_l_bfgs_b\u001B[39m\u001B[38;5;124m\"\u001B[39m:\n\u001B[0;32m--> 474\u001B[0m         opt_res \u001B[38;5;241m=\u001B[39m \u001B[43mscipy\u001B[49m\u001B[38;5;241;43m.\u001B[39;49m\u001B[43moptimize\u001B[49m\u001B[38;5;241;43m.\u001B[39;49m\u001B[43mminimize\u001B[49m\u001B[43m(\u001B[49m\n\u001B[1;32m    475\u001B[0m \u001B[43m            \u001B[49m\u001B[43mobj_func\u001B[49m\u001B[43m,\u001B[49m\u001B[43m \u001B[49m\u001B[43minitial_theta\u001B[49m\u001B[43m,\u001B[49m\u001B[43m \u001B[49m\u001B[43mmethod\u001B[49m\u001B[38;5;241;43m=\u001B[39;49m\u001B[38;5;124;43m\"\u001B[39;49m\u001B[38;5;124;43mL-BFGS-B\u001B[39;49m\u001B[38;5;124;43m\"\u001B[39;49m\u001B[43m,\u001B[49m\u001B[43m \u001B[49m\u001B[43mjac\u001B[49m\u001B[38;5;241;43m=\u001B[39;49m\u001B[38;5;28;43;01mTrue\u001B[39;49;00m\u001B[43m,\u001B[49m\u001B[43m \u001B[49m\u001B[43mbounds\u001B[49m\u001B[38;5;241;43m=\u001B[39;49m\u001B[43mbounds\u001B[49m\n\u001B[1;32m    476\u001B[0m \u001B[43m        \u001B[49m\u001B[43m)\u001B[49m\n\u001B[1;32m    477\u001B[0m         _check_optimize_result(\u001B[38;5;124m\"\u001B[39m\u001B[38;5;124mlbfgs\u001B[39m\u001B[38;5;124m\"\u001B[39m, opt_res)\n\u001B[1;32m    478\u001B[0m         theta_opt, func_min \u001B[38;5;241m=\u001B[39m opt_res\u001B[38;5;241m.\u001B[39mx, opt_res\u001B[38;5;241m.\u001B[39mfun\n",
      "File \u001B[0;32m/Library/Python/3.9/site-packages/scipy/optimize/_minimize.py:696\u001B[0m, in \u001B[0;36mminimize\u001B[0;34m(fun, x0, args, method, jac, hess, hessp, bounds, constraints, tol, callback, options)\u001B[0m\n\u001B[1;32m    693\u001B[0m     res \u001B[38;5;241m=\u001B[39m _minimize_newtoncg(fun, x0, args, jac, hess, hessp, callback,\n\u001B[1;32m    694\u001B[0m                              \u001B[38;5;241m*\u001B[39m\u001B[38;5;241m*\u001B[39moptions)\n\u001B[1;32m    695\u001B[0m \u001B[38;5;28;01melif\u001B[39;00m meth \u001B[38;5;241m==\u001B[39m \u001B[38;5;124m'\u001B[39m\u001B[38;5;124ml-bfgs-b\u001B[39m\u001B[38;5;124m'\u001B[39m:\n\u001B[0;32m--> 696\u001B[0m     res \u001B[38;5;241m=\u001B[39m \u001B[43m_minimize_lbfgsb\u001B[49m\u001B[43m(\u001B[49m\u001B[43mfun\u001B[49m\u001B[43m,\u001B[49m\u001B[43m \u001B[49m\u001B[43mx0\u001B[49m\u001B[43m,\u001B[49m\u001B[43m \u001B[49m\u001B[43margs\u001B[49m\u001B[43m,\u001B[49m\u001B[43m \u001B[49m\u001B[43mjac\u001B[49m\u001B[43m,\u001B[49m\u001B[43m \u001B[49m\u001B[43mbounds\u001B[49m\u001B[43m,\u001B[49m\n\u001B[1;32m    697\u001B[0m \u001B[43m                           \u001B[49m\u001B[43mcallback\u001B[49m\u001B[38;5;241;43m=\u001B[39;49m\u001B[43mcallback\u001B[49m\u001B[43m,\u001B[49m\u001B[43m \u001B[49m\u001B[38;5;241;43m*\u001B[39;49m\u001B[38;5;241;43m*\u001B[39;49m\u001B[43moptions\u001B[49m\u001B[43m)\u001B[49m\n\u001B[1;32m    698\u001B[0m \u001B[38;5;28;01melif\u001B[39;00m meth \u001B[38;5;241m==\u001B[39m \u001B[38;5;124m'\u001B[39m\u001B[38;5;124mtnc\u001B[39m\u001B[38;5;124m'\u001B[39m:\n\u001B[1;32m    699\u001B[0m     res \u001B[38;5;241m=\u001B[39m _minimize_tnc(fun, x0, args, jac, bounds, callback\u001B[38;5;241m=\u001B[39mcallback,\n\u001B[1;32m    700\u001B[0m                         \u001B[38;5;241m*\u001B[39m\u001B[38;5;241m*\u001B[39moptions)\n",
      "File \u001B[0;32m/Library/Python/3.9/site-packages/scipy/optimize/_lbfgsb_py.py:305\u001B[0m, in \u001B[0;36m_minimize_lbfgsb\u001B[0;34m(fun, x0, args, jac, bounds, disp, maxcor, ftol, gtol, eps, maxfun, maxiter, iprint, callback, maxls, finite_diff_rel_step, **unknown_options)\u001B[0m\n\u001B[1;32m    302\u001B[0m     \u001B[38;5;28;01melse\u001B[39;00m:\n\u001B[1;32m    303\u001B[0m         iprint \u001B[38;5;241m=\u001B[39m disp\n\u001B[0;32m--> 305\u001B[0m sf \u001B[38;5;241m=\u001B[39m \u001B[43m_prepare_scalar_function\u001B[49m\u001B[43m(\u001B[49m\u001B[43mfun\u001B[49m\u001B[43m,\u001B[49m\u001B[43m \u001B[49m\u001B[43mx0\u001B[49m\u001B[43m,\u001B[49m\u001B[43m \u001B[49m\u001B[43mjac\u001B[49m\u001B[38;5;241;43m=\u001B[39;49m\u001B[43mjac\u001B[49m\u001B[43m,\u001B[49m\u001B[43m \u001B[49m\u001B[43margs\u001B[49m\u001B[38;5;241;43m=\u001B[39;49m\u001B[43margs\u001B[49m\u001B[43m,\u001B[49m\u001B[43m \u001B[49m\u001B[43mepsilon\u001B[49m\u001B[38;5;241;43m=\u001B[39;49m\u001B[43meps\u001B[49m\u001B[43m,\u001B[49m\n\u001B[1;32m    306\u001B[0m \u001B[43m                              \u001B[49m\u001B[43mbounds\u001B[49m\u001B[38;5;241;43m=\u001B[39;49m\u001B[43mnew_bounds\u001B[49m\u001B[43m,\u001B[49m\n\u001B[1;32m    307\u001B[0m \u001B[43m                              \u001B[49m\u001B[43mfinite_diff_rel_step\u001B[49m\u001B[38;5;241;43m=\u001B[39;49m\u001B[43mfinite_diff_rel_step\u001B[49m\u001B[43m)\u001B[49m\n\u001B[1;32m    309\u001B[0m func_and_grad \u001B[38;5;241m=\u001B[39m sf\u001B[38;5;241m.\u001B[39mfun_and_grad\n\u001B[1;32m    311\u001B[0m fortran_int \u001B[38;5;241m=\u001B[39m _lbfgsb\u001B[38;5;241m.\u001B[39mtypes\u001B[38;5;241m.\u001B[39mintvar\u001B[38;5;241m.\u001B[39mdtype\n",
      "File \u001B[0;32m/Library/Python/3.9/site-packages/scipy/optimize/_optimize.py:332\u001B[0m, in \u001B[0;36m_prepare_scalar_function\u001B[0;34m(fun, x0, jac, args, bounds, epsilon, finite_diff_rel_step, hess)\u001B[0m\n\u001B[1;32m    328\u001B[0m     bounds \u001B[38;5;241m=\u001B[39m (\u001B[38;5;241m-\u001B[39mnp\u001B[38;5;241m.\u001B[39minf, np\u001B[38;5;241m.\u001B[39minf)\n\u001B[1;32m    330\u001B[0m \u001B[38;5;66;03m# ScalarFunction caches. Reuse of fun(x) during grad\u001B[39;00m\n\u001B[1;32m    331\u001B[0m \u001B[38;5;66;03m# calculation reduces overall function evaluations.\u001B[39;00m\n\u001B[0;32m--> 332\u001B[0m sf \u001B[38;5;241m=\u001B[39m \u001B[43mScalarFunction\u001B[49m\u001B[43m(\u001B[49m\u001B[43mfun\u001B[49m\u001B[43m,\u001B[49m\u001B[43m \u001B[49m\u001B[43mx0\u001B[49m\u001B[43m,\u001B[49m\u001B[43m \u001B[49m\u001B[43margs\u001B[49m\u001B[43m,\u001B[49m\u001B[43m \u001B[49m\u001B[43mgrad\u001B[49m\u001B[43m,\u001B[49m\u001B[43m \u001B[49m\u001B[43mhess\u001B[49m\u001B[43m,\u001B[49m\n\u001B[1;32m    333\u001B[0m \u001B[43m                    \u001B[49m\u001B[43mfinite_diff_rel_step\u001B[49m\u001B[43m,\u001B[49m\u001B[43m \u001B[49m\u001B[43mbounds\u001B[49m\u001B[43m,\u001B[49m\u001B[43m \u001B[49m\u001B[43mepsilon\u001B[49m\u001B[38;5;241;43m=\u001B[39;49m\u001B[43mepsilon\u001B[49m\u001B[43m)\u001B[49m\n\u001B[1;32m    335\u001B[0m \u001B[38;5;28;01mreturn\u001B[39;00m sf\n",
      "File \u001B[0;32m/Library/Python/3.9/site-packages/scipy/optimize/_differentiable_functions.py:158\u001B[0m, in \u001B[0;36mScalarFunction.__init__\u001B[0;34m(self, fun, x0, args, grad, hess, finite_diff_rel_step, finite_diff_bounds, epsilon)\u001B[0m\n\u001B[1;32m    155\u001B[0m     \u001B[38;5;28mself\u001B[39m\u001B[38;5;241m.\u001B[39mf \u001B[38;5;241m=\u001B[39m fun_wrapped(\u001B[38;5;28mself\u001B[39m\u001B[38;5;241m.\u001B[39mx)\n\u001B[1;32m    157\u001B[0m \u001B[38;5;28mself\u001B[39m\u001B[38;5;241m.\u001B[39m_update_fun_impl \u001B[38;5;241m=\u001B[39m update_fun\n\u001B[0;32m--> 158\u001B[0m \u001B[38;5;28;43mself\u001B[39;49m\u001B[38;5;241;43m.\u001B[39;49m\u001B[43m_update_fun\u001B[49m\u001B[43m(\u001B[49m\u001B[43m)\u001B[49m\n\u001B[1;32m    160\u001B[0m \u001B[38;5;66;03m# Gradient evaluation\u001B[39;00m\n\u001B[1;32m    161\u001B[0m \u001B[38;5;28;01mif\u001B[39;00m callable(grad):\n",
      "File \u001B[0;32m/Library/Python/3.9/site-packages/scipy/optimize/_differentiable_functions.py:251\u001B[0m, in \u001B[0;36mScalarFunction._update_fun\u001B[0;34m(self)\u001B[0m\n\u001B[1;32m    249\u001B[0m \u001B[38;5;28;01mdef\u001B[39;00m \u001B[38;5;21m_update_fun\u001B[39m(\u001B[38;5;28mself\u001B[39m):\n\u001B[1;32m    250\u001B[0m     \u001B[38;5;28;01mif\u001B[39;00m \u001B[38;5;129;01mnot\u001B[39;00m \u001B[38;5;28mself\u001B[39m\u001B[38;5;241m.\u001B[39mf_updated:\n\u001B[0;32m--> 251\u001B[0m         \u001B[38;5;28;43mself\u001B[39;49m\u001B[38;5;241;43m.\u001B[39;49m\u001B[43m_update_fun_impl\u001B[49m\u001B[43m(\u001B[49m\u001B[43m)\u001B[49m\n\u001B[1;32m    252\u001B[0m         \u001B[38;5;28mself\u001B[39m\u001B[38;5;241m.\u001B[39mf_updated \u001B[38;5;241m=\u001B[39m \u001B[38;5;28;01mTrue\u001B[39;00m\n",
      "File \u001B[0;32m/Library/Python/3.9/site-packages/scipy/optimize/_differentiable_functions.py:155\u001B[0m, in \u001B[0;36mScalarFunction.__init__.<locals>.update_fun\u001B[0;34m()\u001B[0m\n\u001B[1;32m    154\u001B[0m \u001B[38;5;28;01mdef\u001B[39;00m \u001B[38;5;21mupdate_fun\u001B[39m():\n\u001B[0;32m--> 155\u001B[0m     \u001B[38;5;28mself\u001B[39m\u001B[38;5;241m.\u001B[39mf \u001B[38;5;241m=\u001B[39m \u001B[43mfun_wrapped\u001B[49m\u001B[43m(\u001B[49m\u001B[38;5;28;43mself\u001B[39;49m\u001B[38;5;241;43m.\u001B[39;49m\u001B[43mx\u001B[49m\u001B[43m)\u001B[49m\n",
      "File \u001B[0;32m/Library/Python/3.9/site-packages/scipy/optimize/_differentiable_functions.py:137\u001B[0m, in \u001B[0;36mScalarFunction.__init__.<locals>.fun_wrapped\u001B[0;34m(x)\u001B[0m\n\u001B[1;32m    133\u001B[0m \u001B[38;5;28mself\u001B[39m\u001B[38;5;241m.\u001B[39mnfev \u001B[38;5;241m+\u001B[39m\u001B[38;5;241m=\u001B[39m \u001B[38;5;241m1\u001B[39m\n\u001B[1;32m    134\u001B[0m \u001B[38;5;66;03m# Send a copy because the user may overwrite it.\u001B[39;00m\n\u001B[1;32m    135\u001B[0m \u001B[38;5;66;03m# Overwriting results in undefined behaviour because\u001B[39;00m\n\u001B[1;32m    136\u001B[0m \u001B[38;5;66;03m# fun(self.x) will change self.x, with the two no longer linked.\u001B[39;00m\n\u001B[0;32m--> 137\u001B[0m fx \u001B[38;5;241m=\u001B[39m \u001B[43mfun\u001B[49m\u001B[43m(\u001B[49m\u001B[43mnp\u001B[49m\u001B[38;5;241;43m.\u001B[39;49m\u001B[43mcopy\u001B[49m\u001B[43m(\u001B[49m\u001B[43mx\u001B[49m\u001B[43m)\u001B[49m\u001B[43m,\u001B[49m\u001B[43m \u001B[49m\u001B[38;5;241;43m*\u001B[39;49m\u001B[43margs\u001B[49m\u001B[43m)\u001B[49m\n\u001B[1;32m    138\u001B[0m \u001B[38;5;66;03m# Make sure the function returns a true scalar\u001B[39;00m\n\u001B[1;32m    139\u001B[0m \u001B[38;5;28;01mif\u001B[39;00m \u001B[38;5;129;01mnot\u001B[39;00m np\u001B[38;5;241m.\u001B[39misscalar(fx):\n",
      "File \u001B[0;32m/Library/Python/3.9/site-packages/scipy/optimize/_optimize.py:76\u001B[0m, in \u001B[0;36mMemoizeJac.__call__\u001B[0;34m(self, x, *args)\u001B[0m\n\u001B[1;32m     74\u001B[0m \u001B[38;5;28;01mdef\u001B[39;00m \u001B[38;5;21m__call__\u001B[39m(\u001B[38;5;28mself\u001B[39m, x, \u001B[38;5;241m*\u001B[39margs):\n\u001B[1;32m     75\u001B[0m \u001B[38;5;250m    \u001B[39m\u001B[38;5;124;03m\"\"\" returns the function value \"\"\"\u001B[39;00m\n\u001B[0;32m---> 76\u001B[0m     \u001B[38;5;28;43mself\u001B[39;49m\u001B[38;5;241;43m.\u001B[39;49m\u001B[43m_compute_if_needed\u001B[49m\u001B[43m(\u001B[49m\u001B[43mx\u001B[49m\u001B[43m,\u001B[49m\u001B[43m \u001B[49m\u001B[38;5;241;43m*\u001B[39;49m\u001B[43margs\u001B[49m\u001B[43m)\u001B[49m\n\u001B[1;32m     77\u001B[0m     \u001B[38;5;28;01mreturn\u001B[39;00m \u001B[38;5;28mself\u001B[39m\u001B[38;5;241m.\u001B[39m_value\n",
      "File \u001B[0;32m/Library/Python/3.9/site-packages/scipy/optimize/_optimize.py:70\u001B[0m, in \u001B[0;36mMemoizeJac._compute_if_needed\u001B[0;34m(self, x, *args)\u001B[0m\n\u001B[1;32m     68\u001B[0m \u001B[38;5;28;01mif\u001B[39;00m \u001B[38;5;129;01mnot\u001B[39;00m np\u001B[38;5;241m.\u001B[39mall(x \u001B[38;5;241m==\u001B[39m \u001B[38;5;28mself\u001B[39m\u001B[38;5;241m.\u001B[39mx) \u001B[38;5;129;01mor\u001B[39;00m \u001B[38;5;28mself\u001B[39m\u001B[38;5;241m.\u001B[39m_value \u001B[38;5;129;01mis\u001B[39;00m \u001B[38;5;28;01mNone\u001B[39;00m \u001B[38;5;129;01mor\u001B[39;00m \u001B[38;5;28mself\u001B[39m\u001B[38;5;241m.\u001B[39mjac \u001B[38;5;129;01mis\u001B[39;00m \u001B[38;5;28;01mNone\u001B[39;00m:\n\u001B[1;32m     69\u001B[0m     \u001B[38;5;28mself\u001B[39m\u001B[38;5;241m.\u001B[39mx \u001B[38;5;241m=\u001B[39m np\u001B[38;5;241m.\u001B[39masarray(x)\u001B[38;5;241m.\u001B[39mcopy()\n\u001B[0;32m---> 70\u001B[0m     fg \u001B[38;5;241m=\u001B[39m \u001B[38;5;28;43mself\u001B[39;49m\u001B[38;5;241;43m.\u001B[39;49m\u001B[43mfun\u001B[49m\u001B[43m(\u001B[49m\u001B[43mx\u001B[49m\u001B[43m,\u001B[49m\u001B[43m \u001B[49m\u001B[38;5;241;43m*\u001B[39;49m\u001B[43margs\u001B[49m\u001B[43m)\u001B[49m\n\u001B[1;32m     71\u001B[0m     \u001B[38;5;28mself\u001B[39m\u001B[38;5;241m.\u001B[39mjac \u001B[38;5;241m=\u001B[39m fg[\u001B[38;5;241m1\u001B[39m]\n\u001B[1;32m     72\u001B[0m     \u001B[38;5;28mself\u001B[39m\u001B[38;5;241m.\u001B[39m_value \u001B[38;5;241m=\u001B[39m fg[\u001B[38;5;241m0\u001B[39m]\n",
      "File \u001B[0;32m/Library/Python/3.9/site-packages/sklearn/gaussian_process/_gpc.py:220\u001B[0m, in \u001B[0;36m_BinaryGaussianProcessClassifierLaplace.fit.<locals>.obj_func\u001B[0;34m(theta, eval_gradient)\u001B[0m\n\u001B[1;32m    218\u001B[0m \u001B[38;5;28;01mdef\u001B[39;00m \u001B[38;5;21mobj_func\u001B[39m(theta, eval_gradient\u001B[38;5;241m=\u001B[39m\u001B[38;5;28;01mTrue\u001B[39;00m):\n\u001B[1;32m    219\u001B[0m     \u001B[38;5;28;01mif\u001B[39;00m eval_gradient:\n\u001B[0;32m--> 220\u001B[0m         lml, grad \u001B[38;5;241m=\u001B[39m \u001B[38;5;28;43mself\u001B[39;49m\u001B[38;5;241;43m.\u001B[39;49m\u001B[43mlog_marginal_likelihood\u001B[49m\u001B[43m(\u001B[49m\n\u001B[1;32m    221\u001B[0m \u001B[43m            \u001B[49m\u001B[43mtheta\u001B[49m\u001B[43m,\u001B[49m\u001B[43m \u001B[49m\u001B[43meval_gradient\u001B[49m\u001B[38;5;241;43m=\u001B[39;49m\u001B[38;5;28;43;01mTrue\u001B[39;49;00m\u001B[43m,\u001B[49m\u001B[43m \u001B[49m\u001B[43mclone_kernel\u001B[49m\u001B[38;5;241;43m=\u001B[39;49m\u001B[38;5;28;43;01mFalse\u001B[39;49;00m\n\u001B[1;32m    222\u001B[0m \u001B[43m        \u001B[49m\u001B[43m)\u001B[49m\n\u001B[1;32m    223\u001B[0m         \u001B[38;5;28;01mreturn\u001B[39;00m \u001B[38;5;241m-\u001B[39mlml, \u001B[38;5;241m-\u001B[39mgrad\n\u001B[1;32m    224\u001B[0m     \u001B[38;5;28;01melse\u001B[39;00m:\n",
      "File \u001B[0;32m/Library/Python/3.9/site-packages/sklearn/gaussian_process/_gpc.py:379\u001B[0m, in \u001B[0;36m_BinaryGaussianProcessClassifierLaplace.log_marginal_likelihood\u001B[0;34m(self, theta, eval_gradient, clone_kernel)\u001B[0m\n\u001B[1;32m    376\u001B[0m     kernel\u001B[38;5;241m.\u001B[39mtheta \u001B[38;5;241m=\u001B[39m theta\n\u001B[1;32m    378\u001B[0m \u001B[38;5;28;01mif\u001B[39;00m eval_gradient:\n\u001B[0;32m--> 379\u001B[0m     K, K_gradient \u001B[38;5;241m=\u001B[39m \u001B[43mkernel\u001B[49m\u001B[43m(\u001B[49m\u001B[38;5;28;43mself\u001B[39;49m\u001B[38;5;241;43m.\u001B[39;49m\u001B[43mX_train_\u001B[49m\u001B[43m,\u001B[49m\u001B[43m \u001B[49m\u001B[43meval_gradient\u001B[49m\u001B[38;5;241;43m=\u001B[39;49m\u001B[38;5;28;43;01mTrue\u001B[39;49;00m\u001B[43m)\u001B[49m\n\u001B[1;32m    380\u001B[0m \u001B[38;5;28;01melse\u001B[39;00m:\n\u001B[1;32m    381\u001B[0m     K \u001B[38;5;241m=\u001B[39m kernel(\u001B[38;5;28mself\u001B[39m\u001B[38;5;241m.\u001B[39mX_train_)\n",
      "File \u001B[0;32m/Library/Python/3.9/site-packages/sklearn/gaussian_process/kernels.py:941\u001B[0m, in \u001B[0;36mProduct.__call__\u001B[0;34m(self, X, Y, eval_gradient)\u001B[0m\n\u001B[1;32m    939\u001B[0m \u001B[38;5;28;01mif\u001B[39;00m eval_gradient:\n\u001B[1;32m    940\u001B[0m     K1, K1_gradient \u001B[38;5;241m=\u001B[39m \u001B[38;5;28mself\u001B[39m\u001B[38;5;241m.\u001B[39mk1(X, Y, eval_gradient\u001B[38;5;241m=\u001B[39m\u001B[38;5;28;01mTrue\u001B[39;00m)\n\u001B[0;32m--> 941\u001B[0m     K2, K2_gradient \u001B[38;5;241m=\u001B[39m \u001B[38;5;28;43mself\u001B[39;49m\u001B[38;5;241;43m.\u001B[39;49m\u001B[43mk2\u001B[49m\u001B[43m(\u001B[49m\u001B[43mX\u001B[49m\u001B[43m,\u001B[49m\u001B[43m \u001B[49m\u001B[43mY\u001B[49m\u001B[43m,\u001B[49m\u001B[43m \u001B[49m\u001B[43meval_gradient\u001B[49m\u001B[38;5;241;43m=\u001B[39;49m\u001B[38;5;28;43;01mTrue\u001B[39;49;00m\u001B[43m)\u001B[49m\n\u001B[1;32m    942\u001B[0m     \u001B[38;5;28;01mreturn\u001B[39;00m K1 \u001B[38;5;241m*\u001B[39m K2, np\u001B[38;5;241m.\u001B[39mdstack(\n\u001B[1;32m    943\u001B[0m         (K1_gradient \u001B[38;5;241m*\u001B[39m K2[:, :, np\u001B[38;5;241m.\u001B[39mnewaxis], K2_gradient \u001B[38;5;241m*\u001B[39m K1[:, :, np\u001B[38;5;241m.\u001B[39mnewaxis])\n\u001B[1;32m    944\u001B[0m     )\n\u001B[1;32m    945\u001B[0m \u001B[38;5;28;01melse\u001B[39;00m:\n",
      "File \u001B[0;32m/Library/Python/3.9/site-packages/sklearn/gaussian_process/kernels.py:1534\u001B[0m, in \u001B[0;36mRBF.__call__\u001B[0;34m(self, X, Y, eval_gradient)\u001B[0m\n\u001B[1;32m   1506\u001B[0m \u001B[38;5;250m\u001B[39m\u001B[38;5;124;03m\"\"\"Return the kernel k(X, Y) and optionally its gradient.\u001B[39;00m\n\u001B[1;32m   1507\u001B[0m \n\u001B[1;32m   1508\u001B[0m \u001B[38;5;124;03mParameters\u001B[39;00m\n\u001B[0;32m   (...)\u001B[0m\n\u001B[1;32m   1531\u001B[0m \u001B[38;5;124;03m    is True.\u001B[39;00m\n\u001B[1;32m   1532\u001B[0m \u001B[38;5;124;03m\"\"\"\u001B[39;00m\n\u001B[1;32m   1533\u001B[0m X \u001B[38;5;241m=\u001B[39m np\u001B[38;5;241m.\u001B[39matleast_2d(X)\n\u001B[0;32m-> 1534\u001B[0m length_scale \u001B[38;5;241m=\u001B[39m \u001B[43m_check_length_scale\u001B[49m\u001B[43m(\u001B[49m\u001B[43mX\u001B[49m\u001B[43m,\u001B[49m\u001B[43m \u001B[49m\u001B[38;5;28;43mself\u001B[39;49m\u001B[38;5;241;43m.\u001B[39;49m\u001B[43mlength_scale\u001B[49m\u001B[43m)\u001B[49m\n\u001B[1;32m   1535\u001B[0m \u001B[38;5;28;01mif\u001B[39;00m Y \u001B[38;5;129;01mis\u001B[39;00m \u001B[38;5;28;01mNone\u001B[39;00m:\n\u001B[1;32m   1536\u001B[0m     dists \u001B[38;5;241m=\u001B[39m pdist(X \u001B[38;5;241m/\u001B[39m length_scale, metric\u001B[38;5;241m=\u001B[39m\u001B[38;5;124m\"\u001B[39m\u001B[38;5;124msqeuclidean\u001B[39m\u001B[38;5;124m\"\u001B[39m)\n",
      "File \u001B[0;32m/Library/Python/3.9/site-packages/sklearn/gaussian_process/kernels.py:44\u001B[0m, in \u001B[0;36m_check_length_scale\u001B[0;34m(X, length_scale)\u001B[0m\n\u001B[1;32m     42\u001B[0m     \u001B[38;5;28;01mraise\u001B[39;00m \u001B[38;5;167;01mValueError\u001B[39;00m(\u001B[38;5;124m\"\u001B[39m\u001B[38;5;124mlength_scale cannot be of dimension greater than 1\u001B[39m\u001B[38;5;124m\"\u001B[39m)\n\u001B[1;32m     43\u001B[0m \u001B[38;5;28;01mif\u001B[39;00m np\u001B[38;5;241m.\u001B[39mndim(length_scale) \u001B[38;5;241m==\u001B[39m \u001B[38;5;241m1\u001B[39m \u001B[38;5;129;01mand\u001B[39;00m X\u001B[38;5;241m.\u001B[39mshape[\u001B[38;5;241m1\u001B[39m] \u001B[38;5;241m!=\u001B[39m length_scale\u001B[38;5;241m.\u001B[39mshape[\u001B[38;5;241m0\u001B[39m]:\n\u001B[0;32m---> 44\u001B[0m     \u001B[38;5;28;01mraise\u001B[39;00m \u001B[38;5;167;01mValueError\u001B[39;00m(\n\u001B[1;32m     45\u001B[0m         \u001B[38;5;124m\"\u001B[39m\u001B[38;5;124mAnisotropic kernel must have the same number of \u001B[39m\u001B[38;5;124m\"\u001B[39m\n\u001B[1;32m     46\u001B[0m         \u001B[38;5;124m\"\u001B[39m\u001B[38;5;124mdimensions as data (\u001B[39m\u001B[38;5;132;01m%d\u001B[39;00m\u001B[38;5;124m!=\u001B[39m\u001B[38;5;132;01m%d\u001B[39;00m\u001B[38;5;124m)\u001B[39m\u001B[38;5;124m\"\u001B[39m \u001B[38;5;241m%\u001B[39m (length_scale\u001B[38;5;241m.\u001B[39mshape[\u001B[38;5;241m0\u001B[39m], X\u001B[38;5;241m.\u001B[39mshape[\u001B[38;5;241m1\u001B[39m])\n\u001B[1;32m     47\u001B[0m     )\n\u001B[1;32m     48\u001B[0m \u001B[38;5;28;01mreturn\u001B[39;00m length_scale\n",
      "\u001B[0;31mValueError\u001B[0m: Anisotropic kernel must have the same number of dimensions as data (2!=42)"
     ]
    },
    {
     "data": {
      "text/plain": "<Figure size 600x1200 with 10 Axes>",
      "image/png": "[encoded data removed]"
     },
     "metadata": {},
     "output_type": "display_data"
    }
   ],
   "source": [
    "n_classifiers = len(classifiers)\n",
    "\n",
    "plt.figure(figsize=(3 * 2, n_classifiers * 2))\n",
    "plt.subplots_adjust(bottom=.2, top=.95)\n",
    "\n",
    "\n",
    "xx = np.linspace(3, 9, 100)\n",
    "yy = np.linspace(1, 5, 100).T\n",
    "# xx, yy = np.meshgrid(xx, yy)\n",
    "# Xfull = np.c_[xx.ravel(), yy.ravel()]\n",
    "\n",
    "for index, (name, classifier) in enumerate(classifiers.items()):\n",
    "    classifier.fit(X_train, y_train)\n",
    "\n",
    "    y_pred = classifier.predict(X_train)\n",
    "    accuracy = accuracy_score(y_train, y_pred)\n",
    "    print(\"Accuracy (train) for %s: %0.1f%% \" % (name, accuracy * 100))\n",
    "\n",
    "    # View probabilities:\n",
    "    probas = classifier.predict_proba(X_test)\n",
    "    n_classes = np.unique(y_pred).size\n",
    "    for k in range(n_classes):\n",
    "        plt.subplot(n_classifiers, n_classes, index * n_classes + k + 1)\n",
    "        plt.title(\"Class %d\" % k)\n",
    "        if k == 0:\n",
    "            plt.ylabel(name)\n",
    "        \n",
    "        plt.xticks(())\n",
    "        plt.yticks(())\n",
    "        idx = (y_pred == k)\n",
    "        if idx.any():\n",
    "            plt.scatter(X_train[idx, 0], X_train[idx, 1], marker='o', c='w', edgecolor='k')\n",
    "\n",
    "ax = plt.axes([0.15, 0.04, 0.7, 0.05])\n",
    "plt.title(\"Probability\")\n",
    "\n",
    "plt.show()"
   ],
   "metadata": {
    "collapsed": false,
    "ExecuteTime": {
     "end_time": "2023-09-20T12:37:17.899964Z",
     "start_time": "2023-09-20T12:17:04.083360Z"
    }
   },
   "id": "f49a19df9ba2381c"
  },
  {
   "cell_type": "code",
   "execution_count": null,
   "outputs": [],
   "source": [],
   "metadata": {
    "collapsed": false
   },
   "id": "bf0607c44c21e5b"
  }
 ],
 "metadata": {
  "kernelspec": {
   "display_name": "Python 3",
   "language": "python",
   "name": "python3"
  },
  "language_info": {
   "codemirror_mode": {
    "name": "ipython",
    "version": 2
   },
   "file_extension": ".py",
   "mimetype": "text/x-python",
   "name": "python",
   "nbconvert_exporter": "python",
   "pygments_lexer": "ipython2",
   "version": "2.7.6"
  }
 },
 "nbformat": 4,
 "nbformat_minor": 5
}
