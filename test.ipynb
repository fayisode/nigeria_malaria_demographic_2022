{
 "cells": [
  {
   "cell_type": "code",
   "execution_count": 2,
   "metadata": {},
   "outputs": [
    {
     "name": "stdout",
     "output_type": "stream",
     "text": [
      "Defaulting to user installation because normal site-packages is not writeable\n",
      "Requirement already satisfied: savReaderWriter in c:\\users\\sahee\\appdata\\roaming\\python\\python39\\site-packages (3.4.2)\n"
     ]
    }
   ],
   "source": [
    "!pip install savReaderWriter"
   ]
  },
  {
   "cell_type": "code",
   "execution_count": 3,
   "metadata": {},
   "outputs": [
    {
     "name": "stdout",
     "output_type": "stream",
     "text": [
      "data/output\\NGFW81SV\\NGFW81FL.SAV\n",
      "data/output\\NGHR81SV\\NGHR81FL.SAV\n",
      "data/output\\NGIR81SV\\NGIR81FL.SAV\n",
      "data/output\\NGKR81SV\\NGKR81FL.SAV\n",
      "data/output\\NGPR81SV\\NGPR81FL.SAV\n",
      "data/output\\NGFW81SV\\NGFW81FL.SAV\n",
      "data/output\\NGHR81SV\\NGHR81FL.SAV\n",
      "data/output\\NGIR81SV\\NGIR81FL.SAV\n",
      "data/output\\NGKR81SV\\NGKR81FL.SAV\n",
      "data/output\\NGPR81SV\\NGPR81FL.SAV\n"
     ]
    }
   ],
   "source": [
    "import os\n",
    "\n",
    "root_directory = \"data/output\"\n",
    "dir = []\n",
    "for dirpath, dirnames, filenames in os.walk(root_directory):\n",
    "    for filename in filenames:\n",
    "        if filename.endswith(\".SAV\"):\n",
    "            spss_path = os.path.join(dirpath, filename)\n",
    "            dir.append(spss_path)\n",
    "            print(spss_path)\n"
   ]
  },
  {
   "cell_type": "code",
   "execution_count": 19,
   "metadata": {},
   "outputs": [
    {
     "data": {
      "text/plain": "5"
     },
     "execution_count": 19,
     "metadata": {},
     "output_type": "execute_result"
    }
   ],
   "source": []
  },
  {
   "cell_type": "code",
   "execution_count": 51,
   "metadata": {},
   "outputs": [
    {
     "name": "stdout",
     "output_type": "stream",
     "text": [
      "data/output\\NGFW81SV\\NGFW81FL.SPS\n",
      "33\n"
     ]
    }
   ],
   "source": [
    "import savReaderWriter as srw\n",
    "import pandas as pd\n",
    "import re\n",
    "\n",
    "# Set the path to the .sav file\n",
    "sav_file = dir[0]\n",
    "\n",
    "# Set the path to the .sps file\n",
    "sps_file = dir[0].replace('SAV', 'SPS')\n",
    "print(sps_file)\n",
    "variable_labels = []\n",
    "with srw.SavReader(sav_file) as reader:\n",
    "    with open(sps_file, \"r\") as f:\n",
    "        file_content = f.readlines()\n",
    "        start_index = file_content.index('VARIABLE LABELS\\n')\n",
    "        for line in file_content[start_index+1:]:\n",
    "            if line.find('VALUE LABELS') != -1 or line.find('MISSING VALUE') != -1:\n",
    "                break\n",
    "            else:\n",
    "                if line.strip() != '.':\n",
    "                    variable_labels.append(line.strip().replace(\"/\", \"\").replace(\"\\\"\",\"\"))\n",
    "\n",
    "print(len(variable_labels))"
   ]
  },
  {
   "cell_type": "code",
   "execution_count": 52,
   "metadata": {},
   "outputs": [],
   "source": [
    "import pandas as pd\n",
    "spss_data = pd.read_spss(dir[0])\n"
   ]
  },
  {
   "cell_type": "code",
   "execution_count": 53,
   "metadata": {},
   "outputs": [],
   "source": [
    "spss_data.columns = variable_labels"
   ]
  },
  {
   "cell_type": "code",
   "execution_count": 54,
   "metadata": {},
   "outputs": [
    {
     "data": {
      "text/plain": "(185, 33)"
     },
     "execution_count": 54,
     "metadata": {},
     "output_type": "execute_result"
    }
   ],
   "source": [
    "spss_data.shape"
   ]
  },
  {
   "cell_type": "code",
   "execution_count": 55,
   "metadata": {},
   "outputs": [
    {
     "name": "stdout",
     "output_type": "stream",
     "text": [
      "Column:  FW117    Is fieldworker a permanent or temporary employee of agency  has  124 nan values\n"
     ]
    }
   ],
   "source": [
    "for column in spss_data.columns:\n",
    "    nan_total = spss_data[column].isna().sum()\n",
    "    if nan_total != 0:\n",
    "        print('Column: ', column, ' has ', nan_total, 'nan values')"
   ]
  },
  {
   "cell_type": "code",
   "execution_count": 56,
   "metadata": {},
   "outputs": [
    {
     "data": {
      "text/plain": "   FW101    Fieldworker code FW000    Country code and phase  \\\n0                     3201.0                             NG8   \n1                     3202.0                             NG8   \n2                     3203.0                             NG8   \n3                     3208.0                             NG8   \n4                     3200.0                             NG8   \n\n  FW102    Fieldworker state of residence  \\\n0                                     FCT   \n1                                   EKITI   \n2                                    ABIA   \n3                                   EKITI   \n4                                    ONDO   \n\n  FW103    Fieldworker type of place of residence  FW104    Fieldworker age  \\\n0                                            CIty                      37.0   \n1                                            CIty                      30.0   \n2                                            Town                      40.0   \n3                                            Town                      37.0   \n4                                            CIty                      43.0   \n\n  FW105    Fieldworker sex FW106    Fieldworker marital status  \\\n0                   Female                   Currently married   \n1                   Female                   Currently married   \n2                   Female                   Currently married   \n3                     Male                   Currently married   \n4                     Male                   Currently married   \n\n   FW107    Fieldworker number of living children  \\\n0                                             4.0   \n1                                             0.0   \n2                                             3.0   \n3                                             2.0   \n4                                             2.0   \n\n  FW108    Fieldworker ever had a child who died  \\\n0                                             No   \n1                                             No   \n2                                             No   \n3                                             No   \n4                                             No   \n\n  FW109    Highest level of school attended by fieldworker  ...  \\\n0                                             Higher        ...   \n1                                             Higher        ...   \n2                                             Higher        ...   \n3                                             Higher        ...   \n4                                             Higher        ...   \n\n  FW113Y   No other language  \\\n0                              \n1                              \n2                              \n3                              \n4                              \n\n  FW114    Fieldworker's mother tonguenative language  \\\n0                                             Yoruba    \n1                                             Yoruba    \n2                                             Yoruba    \n3                                             Yoruba    \n4                                             Yoruba    \n\n  FW115A   Has fieldworker ever worked on a DHS prior to this survey  \\\n0                                                 No                   \n1                                                 No                   \n2                                                 No                   \n3                                                 No                   \n4                                                 No                   \n\n  FW115B   Has fieldworker ever worked on an MIS prior to this survey  \\\n0                                                 No                    \n1                                                 No                    \n2                                                 No                    \n3                                                 No                    \n4                                                 No                    \n\n  FW115C   Has fieldworker ever worked on any other survey prior to this survey  \\\n0                                                Yes                              \n1                                                Yes                              \n2                                                 No                              \n3                                                 No                              \n4                                                Yes                              \n\n  FW116    Was fieldworker working for implementing agency at the time employed for DHS  \\\n0                                           Yes, NPC                                      \n1                                                 No                                      \n2                                                 No                                      \n3                                                 No                                      \n4                                           Yes, NPC                                      \n\n  FW117    Is fieldworker a permanent or temporary employee of agency  \\\n0                                          Temporary                    \n1                                                NaN                    \n2                                                NaN                    \n3                                                NaN                    \n4                                          Temporary                    \n\n  FW118    Does fieldworker has any comments  \\\n0                                         No   \n1                                         No   \n2                                         No   \n3                                         No   \n4                                         No   \n\n  FW102A   Fieldworker region of residence  \\\n0                                      FCT   \n1                                    EKITI   \n2                                     ABIA   \n3                                    EKITI   \n4                                     ONDO   \n\n  FW114A   Fieldworker's mother tonguenative language  \n0                                             Yoruba   \n1                                             Yoruba   \n2                                             Yoruba   \n3                                             Yoruba   \n4                                             Yoruba   \n\n[5 rows x 33 columns]",
      "text/html": "<div>\n<style scoped>\n    .dataframe tbody tr th:only-of-type {\n        vertical-align: middle;\n    }\n\n    .dataframe tbody tr th {\n        vertical-align: top;\n    }\n\n    .dataframe thead th {\n        text-align: right;\n    }\n</style>\n<table border=\"1\" class=\"dataframe\">\n  <thead>\n    <tr style=\"text-align: right;\">\n      <th></th>\n      <th>FW101    Fieldworker code</th>\n      <th>FW000    Country code and phase</th>\n      <th>FW102    Fieldworker state of residence</th>\n      <th>FW103    Fieldworker type of place of residence</th>\n      <th>FW104    Fieldworker age</th>\n      <th>FW105    Fieldworker sex</th>\n      <th>FW106    Fieldworker marital status</th>\n      <th>FW107    Fieldworker number of living children</th>\n      <th>FW108    Fieldworker ever had a child who died</th>\n      <th>FW109    Highest level of school attended by fieldworker</th>\n      <th>...</th>\n      <th>FW113Y   No other language</th>\n      <th>FW114    Fieldworker's mother tonguenative language</th>\n      <th>FW115A   Has fieldworker ever worked on a DHS prior to this survey</th>\n      <th>FW115B   Has fieldworker ever worked on an MIS prior to this survey</th>\n      <th>FW115C   Has fieldworker ever worked on any other survey prior to this survey</th>\n      <th>FW116    Was fieldworker working for implementing agency at the time employed for DHS</th>\n      <th>FW117    Is fieldworker a permanent or temporary employee of agency</th>\n      <th>FW118    Does fieldworker has any comments</th>\n      <th>FW102A   Fieldworker region of residence</th>\n      <th>FW114A   Fieldworker's mother tonguenative language</th>\n    </tr>\n  </thead>\n  <tbody>\n    <tr>\n      <th>0</th>\n      <td>3201.0</td>\n      <td>NG8</td>\n      <td>FCT</td>\n      <td>CIty</td>\n      <td>37.0</td>\n      <td>Female</td>\n      <td>Currently married</td>\n      <td>4.0</td>\n      <td>No</td>\n      <td>Higher</td>\n      <td>...</td>\n      <td></td>\n      <td>Yoruba</td>\n      <td>No</td>\n      <td>No</td>\n      <td>Yes</td>\n      <td>Yes, NPC</td>\n      <td>Temporary</td>\n      <td>No</td>\n      <td>FCT</td>\n      <td>Yoruba</td>\n    </tr>\n    <tr>\n      <th>1</th>\n      <td>3202.0</td>\n      <td>NG8</td>\n      <td>EKITI</td>\n      <td>CIty</td>\n      <td>30.0</td>\n      <td>Female</td>\n      <td>Currently married</td>\n      <td>0.0</td>\n      <td>No</td>\n      <td>Higher</td>\n      <td>...</td>\n      <td></td>\n      <td>Yoruba</td>\n      <td>No</td>\n      <td>No</td>\n      <td>Yes</td>\n      <td>No</td>\n      <td>NaN</td>\n      <td>No</td>\n      <td>EKITI</td>\n      <td>Yoruba</td>\n    </tr>\n    <tr>\n      <th>2</th>\n      <td>3203.0</td>\n      <td>NG8</td>\n      <td>ABIA</td>\n      <td>Town</td>\n      <td>40.0</td>\n      <td>Female</td>\n      <td>Currently married</td>\n      <td>3.0</td>\n      <td>No</td>\n      <td>Higher</td>\n      <td>...</td>\n      <td></td>\n      <td>Yoruba</td>\n      <td>No</td>\n      <td>No</td>\n      <td>No</td>\n      <td>No</td>\n      <td>NaN</td>\n      <td>No</td>\n      <td>ABIA</td>\n      <td>Yoruba</td>\n    </tr>\n    <tr>\n      <th>3</th>\n      <td>3208.0</td>\n      <td>NG8</td>\n      <td>EKITI</td>\n      <td>Town</td>\n      <td>37.0</td>\n      <td>Male</td>\n      <td>Currently married</td>\n      <td>2.0</td>\n      <td>No</td>\n      <td>Higher</td>\n      <td>...</td>\n      <td></td>\n      <td>Yoruba</td>\n      <td>No</td>\n      <td>No</td>\n      <td>No</td>\n      <td>No</td>\n      <td>NaN</td>\n      <td>No</td>\n      <td>EKITI</td>\n      <td>Yoruba</td>\n    </tr>\n    <tr>\n      <th>4</th>\n      <td>3200.0</td>\n      <td>NG8</td>\n      <td>ONDO</td>\n      <td>CIty</td>\n      <td>43.0</td>\n      <td>Male</td>\n      <td>Currently married</td>\n      <td>2.0</td>\n      <td>No</td>\n      <td>Higher</td>\n      <td>...</td>\n      <td></td>\n      <td>Yoruba</td>\n      <td>No</td>\n      <td>No</td>\n      <td>Yes</td>\n      <td>Yes, NPC</td>\n      <td>Temporary</td>\n      <td>No</td>\n      <td>ONDO</td>\n      <td>Yoruba</td>\n    </tr>\n  </tbody>\n</table>\n<p>5 rows × 33 columns</p>\n</div>"
     },
     "execution_count": 56,
     "metadata": {},
     "output_type": "execute_result"
    }
   ],
   "source": [
    "spss_data.head()"
   ]
  },
  {
   "cell_type": "code",
   "execution_count": 57,
   "metadata": {},
   "outputs": [
    {
     "data": {
      "text/plain": "(185, 33)"
     },
     "execution_count": 57,
     "metadata": {},
     "output_type": "execute_result"
    }
   ],
   "source": [
    "spss_data.shape"
   ]
  },
  {
   "cell_type": "code",
   "execution_count": 60,
   "metadata": {},
   "outputs": [],
   "source": [
    "spss_data.to_csv('csv/field_worker_recode.csv',sep='\\t')"
   ]
  },
  {
   "cell_type": "code",
   "execution_count": 61,
   "metadata": {},
   "outputs": [
    {
     "name": "stdout",
     "output_type": "stream",
     "text": [
      "Column:  FW101    Fieldworker code\n",
      "Column:  FW000    Country code and phase\n",
      "Column:  FW102    Fieldworker state of residence\n",
      "Column:  FW103    Fieldworker type of place of residence\n",
      "Column:  FW104    Fieldworker age\n",
      "Column:  FW105    Fieldworker sex\n",
      "Column:  FW106    Fieldworker marital status\n",
      "Column:  FW107    Fieldworker number of living children\n",
      "Column:  FW108    Fieldworker ever had a child who died\n",
      "Column:  FW109    Highest level of school attended by fieldworker\n",
      "Column:  FW110    Highest gradeformyear at that level completed by fieldworker\n",
      "Column:  FW111    Fieldworker religion\n",
      "Column:  FW112    Fieldworker ethnicity\n",
      "Column:  FW113A   English\n",
      "Column:  FW113B   Hausa\n",
      "Column:  FW113C   Yoruba\n",
      "Column:  FW113D   Igbo\n",
      "Column:  FW113E   Urhobo\n",
      "Column:  FW113F   Ibibio\n",
      "Column:  FW113G   Edo\n",
      "Column:  FW113H   Fulfulde\n",
      "Column:  FW113I   Kanuri\n",
      "Column:  FW113X   Other language\n",
      "Column:  FW113Y   No other language\n",
      "Column:  FW114    Fieldworker's mother tonguenative language\n",
      "Column:  FW115A   Has fieldworker ever worked on a DHS prior to this survey\n",
      "Column:  FW115B   Has fieldworker ever worked on an MIS prior to this survey\n",
      "Column:  FW115C   Has fieldworker ever worked on any other survey prior to this survey\n",
      "Column:  FW116    Was fieldworker working for implementing agency at the time employed for DHS\n",
      "Column:  FW117    Is fieldworker a permanent or temporary employee of agency\n",
      "Column:  FW118    Does fieldworker has any comments\n",
      "Column:  FW102A   Fieldworker region of residence\n",
      "Column:  FW114A   Fieldworker's mother tonguenative language\n"
     ]
    }
   ],
   "source": [
    "for column in spss_data.columns:\n",
    "    print('Column: ', column)"
   ]
  },
  {
   "cell_type": "code",
   "execution_count": 13,
   "metadata": {},
   "outputs": [],
   "source": []
  }
 ],
 "metadata": {
  "kernelspec": {
   "display_name": "Python 3 (ipykernel)",
   "language": "python",
   "name": "python3"
  },
  "language_info": {
   "codemirror_mode": {
    "name": "ipython",
    "version": 3
   },
   "file_extension": ".py",
   "mimetype": "text/x-python",
   "name": "python",
   "nbconvert_exporter": "python",
   "pygments_lexer": "ipython3",
   "version": "3.9.13"
  }
 },
 "nbformat": 4,
 "nbformat_minor": 1
}
